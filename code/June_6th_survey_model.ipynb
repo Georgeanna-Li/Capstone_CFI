{
 "cells": [
  {
   "cell_type": "markdown",
   "id": "56bf8726-c6a6-4d57-a1fc-16ebf07787ec",
   "metadata": {
    "tags": []
   },
   "source": [
    "# Train a ML Model Based Solely on the Survey Dataframe\n",
    "\n",
    "Because the model trained on linguistic features performs bad, we decided to train another model only on the survey dataframe and then extract important features to improve the original model. "
   ]
  },
  {
   "cell_type": "markdown",
   "id": "7c2425d4-bc53-43e2-84a6-303ef5b285b9",
   "metadata": {},
   "source": [
    "## 1. Import Packages"
   ]
  },
  {
   "cell_type": "code",
   "execution_count": 2,
   "id": "24c9a17f-39e5-4e8b-ae69-6ef0a3e02480",
   "metadata": {},
   "outputs": [],
   "source": [
    "import matplotlib.pyplot as plt\n",
    "import numpy as np\n",
    "import pandas as pd\n",
    "from sklearn.compose import (\n",
    "    ColumnTransformer,\n",
    "    TransformedTargetRegressor,\n",
    "    make_column_transformer,\n",
    ")\n",
    "from sklearn.dummy import DummyRegressor\n",
    "from sklearn.ensemble import RandomForestRegressor\n",
    "from sklearn.impute import SimpleImputer\n",
    "from sklearn.linear_model import Ridge, RidgeCV\n",
    "from sklearn.metrics import make_scorer, mean_squared_error, r2_score\n",
    "from sklearn.model_selection import (\n",
    "    GridSearchCV,\n",
    "    cross_val_score,\n",
    "    cross_validate,\n",
    "    train_test_split,\n",
    ")\n",
    "from sklearn.pipeline import Pipeline, make_pipeline\n",
    "from sklearn.preprocessing import OneHotEncoder, OrdinalEncoder, StandardScaler\n",
    "from sklearn.tree import DecisionTreeRegressor\n",
    "\n",
    "%matplotlib inline"
   ]
  },
  {
   "cell_type": "markdown",
   "id": "339e9ed9-0913-46d6-9c57-9cb70c9279b1",
   "metadata": {},
   "source": [
    "## 2. Preprocessing Data\n"
   ]
  },
  {
   "cell_type": "markdown",
   "id": "e10db57a-6729-4de0-826a-191063a872ea",
   "metadata": {},
   "source": [
    "### 2.1. Clean Data\n",
    "\n",
    "The datatype of \"Level\" column is not consistent so we convert them to integers and filter out the \"Archive\" and nan values."
   ]
  },
  {
   "cell_type": "code",
   "execution_count": 4,
   "id": "550ffbe7-2ded-496f-960e-291fc67e70c6",
   "metadata": {},
   "outputs": [
    {
     "name": "stderr",
     "output_type": "stream",
     "text": [
      "/Users/qichao/opt/miniconda3/lib/python3.9/site-packages/IPython/core/interactiveshell.py:3444: DtypeWarning: Columns (17) have mixed types.Specify dtype option on import or set low_memory=False.\n",
      "  exec(code_obj, self.user_global_ns, self.user_ns)\n"
     ]
    }
   ],
   "source": [
    "survey_df = pd.read_csv('EndOfCourseSurvey.csv')"
   ]
  },
  {
   "cell_type": "code",
   "execution_count": 5,
   "id": "31fd7a5b-a542-44bf-8dee-65fb501f8143",
   "metadata": {},
   "outputs": [
    {
     "data": {
      "text/plain": [
       "array([3, 4, 5, 1, 2, '2', '1', '4', '3', 'Archive', nan, '5'],\n",
       "      dtype=object)"
      ]
     },
     "execution_count": 5,
     "metadata": {},
     "output_type": "execute_result"
    }
   ],
   "source": [
    "survey_df['Level'].unique()"
   ]
  },
  {
   "cell_type": "code",
   "execution_count": 6,
   "id": "5993e338-449d-4ad5-afbe-39055457da8a",
   "metadata": {},
   "outputs": [
    {
     "data": {
      "text/plain": [
       "array([3, 4, 5, 1, 2])"
      ]
     },
     "execution_count": 6,
     "metadata": {},
     "output_type": "execute_result"
    }
   ],
   "source": [
    "survey_df = survey_df[survey_df['Level'] != 'Archive'].dropna()\n",
    "survey_df['Level'] = survey_df['Level'].apply(np.int64)\n",
    "survey_df['Level'].unique()"
   ]
  },
  {
   "cell_type": "code",
   "execution_count": 7,
   "id": "24b3a93f-1ff1-4f15-995d-1d6bd727c7e1",
   "metadata": {},
   "outputs": [
    {
     "data": {
      "text/plain": [
       "array(['Agree', 'Strongly Agree', 'Neutral', 'Disagree',\n",
       "       'Strongly Disagree'], dtype=object)"
      ]
     },
     "execution_count": 7,
     "metadata": {},
     "output_type": "execute_result"
    }
   ],
   "source": [
    "survey_df = survey_df[survey_df['Response_Q2'] != 'Did Not Respond'].dropna()\n",
    "survey_df[\"Response_Q2\"].unique()"
   ]
  },
  {
   "cell_type": "code",
   "execution_count": 8,
   "id": "c4bddcc1-81da-4072-941f-f75d8cdb579c",
   "metadata": {},
   "outputs": [
    {
     "data": {
      "text/plain": [
       "array(['Agree', 'Strongly Agree', 'Neutral', 'Disagree',\n",
       "       'Strongly Disagree'], dtype=object)"
      ]
     },
     "execution_count": 8,
     "metadata": {},
     "output_type": "execute_result"
    }
   ],
   "source": [
    "survey_df = survey_df[survey_df['Response_Q3'] != 'Did Not Respond'].dropna()\n",
    "survey_df[\"Response_Q3\"].unique()"
   ]
  },
  {
   "cell_type": "code",
   "execution_count": 9,
   "id": "798ee76a-5dab-4332-9c9f-419dffee6b77",
   "metadata": {},
   "outputs": [
    {
     "data": {
      "text/plain": [
       "array(['Agree', 'Strongly Agree', 'Neutral', 'Disagree',\n",
       "       'Strongly Disagree'], dtype=object)"
      ]
     },
     "execution_count": 9,
     "metadata": {},
     "output_type": "execute_result"
    }
   ],
   "source": [
    "survey_df = survey_df[survey_df['Response_Q4'] != 'Did Not Respond'].dropna()\n",
    "survey_df[\"Response_Q4\"].unique()"
   ]
  },
  {
   "cell_type": "code",
   "execution_count": 10,
   "id": "f2e451d5-edb1-4e54-8b08-af285a4e6a30",
   "metadata": {},
   "outputs": [
    {
     "data": {
      "text/plain": [
       "array([198151, 152550, 191851, ..., 173145, 238281, 202949])"
      ]
     },
     "execution_count": 10,
     "metadata": {},
     "output_type": "execute_result"
    }
   ],
   "source": [
    "survey_df[\"CustomerID\"].unique()"
   ]
  },
  {
   "cell_type": "code",
   "execution_count": 11,
   "id": "af84fda9-9532-4816-a4f7-ebff48382da9",
   "metadata": {},
   "outputs": [
    {
     "data": {
      "text/plain": [
       "array([197., 147.,  97.,   0.,  99.])"
      ]
     },
     "execution_count": 11,
     "metadata": {},
     "output_type": "execute_result"
    }
   ],
   "source": [
    "survey_df[\"Price\"].unique()"
   ]
  },
  {
   "cell_type": "code",
   "execution_count": 12,
   "id": "b31bb9e2-5ac6-44e6-8a6d-52be66afdcf1",
   "metadata": {},
   "outputs": [
    {
     "data": {
      "text/plain": [
       "array(['FMVA', 'CBCA', 'BIDA', 'CMSA', 'CRE', 'ESG', 'BIDA, FMVA',\n",
       "       'Cryptocurrency', 'FPWMA', 'ML', 'ALL PROGRAMS'], dtype=object)"
      ]
     },
     "execution_count": 12,
     "metadata": {},
     "output_type": "execute_result"
    }
   ],
   "source": [
    "survey_df[\"Program\"].unique()"
   ]
  },
  {
   "cell_type": "code",
   "execution_count": 13,
   "id": "6317820b-9b3f-4a98-a823-081c0c00666e",
   "metadata": {},
   "outputs": [
    {
     "data": {
      "text/plain": [
       "array(['Core', 'Elective', 'Prep', 'Case Study'], dtype=object)"
      ]
     },
     "execution_count": 13,
     "metadata": {},
     "output_type": "execute_result"
    }
   ],
   "source": [
    "survey_df[\"Requirement\"].unique()"
   ]
  },
  {
   "cell_type": "code",
   "execution_count": 14,
   "id": "d008a451-2f24-4df5-bb31-6613f55af801",
   "metadata": {},
   "outputs": [
    {
     "data": {
      "text/plain": [
       "array(['2-3 hrs', 'Over 3 hrs', 'Under 1 hr', '1-2 hrs'], dtype=object)"
      ]
     },
     "execution_count": 14,
     "metadata": {},
     "output_type": "execute_result"
    }
   ],
   "source": [
    "survey_df = survey_df[survey_df['VideoLenght'] != 'Archive'].dropna()\n",
    "survey_df['VideoLenght'].unique()"
   ]
  },
  {
   "cell_type": "code",
   "execution_count": 15,
   "id": "3d9dd7a6-94b9-44bc-af1c-766c23f8c04c",
   "metadata": {},
   "outputs": [],
   "source": [
    "survey_df_clean = survey_df[[\"Response_Q1\", \"Response_Q2\", \"Response_Q3\", \"Response_Q4\", \"CustomerID\", \"Program\", \"Requirement\", \"Level\", \"VideoLenght\", \"Price\"]]"
   ]
  },
  {
   "cell_type": "code",
   "execution_count": 18,
   "id": "f4a9cb4e-c261-4f1a-95d4-00e08876a4fd",
   "metadata": {},
   "outputs": [
    {
     "data": {
      "text/html": [
       "<div>\n",
       "<style scoped>\n",
       "    .dataframe tbody tr th:only-of-type {\n",
       "        vertical-align: middle;\n",
       "    }\n",
       "\n",
       "    .dataframe tbody tr th {\n",
       "        vertical-align: top;\n",
       "    }\n",
       "\n",
       "    .dataframe thead th {\n",
       "        text-align: right;\n",
       "    }\n",
       "</style>\n",
       "<table border=\"1\" class=\"dataframe\">\n",
       "  <thead>\n",
       "    <tr style=\"text-align: right;\">\n",
       "      <th></th>\n",
       "      <th>Response_Q1</th>\n",
       "      <th>Response_Q2</th>\n",
       "      <th>Response_Q3</th>\n",
       "      <th>Response_Q4</th>\n",
       "      <th>CustomerID</th>\n",
       "      <th>Program</th>\n",
       "      <th>Requirement</th>\n",
       "      <th>Level</th>\n",
       "      <th>VideoLenght</th>\n",
       "      <th>Price</th>\n",
       "    </tr>\n",
       "  </thead>\n",
       "  <tbody>\n",
       "    <tr>\n",
       "      <th>0</th>\n",
       "      <td>9</td>\n",
       "      <td>Agree</td>\n",
       "      <td>Agree</td>\n",
       "      <td>Agree</td>\n",
       "      <td>198151</td>\n",
       "      <td>FMVA</td>\n",
       "      <td>Core</td>\n",
       "      <td>3</td>\n",
       "      <td>2-3 hrs</td>\n",
       "      <td>197.0</td>\n",
       "    </tr>\n",
       "    <tr>\n",
       "      <th>1</th>\n",
       "      <td>9</td>\n",
       "      <td>Agree</td>\n",
       "      <td>Agree</td>\n",
       "      <td>Agree</td>\n",
       "      <td>152550</td>\n",
       "      <td>FMVA</td>\n",
       "      <td>Core</td>\n",
       "      <td>3</td>\n",
       "      <td>2-3 hrs</td>\n",
       "      <td>197.0</td>\n",
       "    </tr>\n",
       "    <tr>\n",
       "      <th>2</th>\n",
       "      <td>10</td>\n",
       "      <td>Strongly Agree</td>\n",
       "      <td>Strongly Agree</td>\n",
       "      <td>Strongly Agree</td>\n",
       "      <td>191851</td>\n",
       "      <td>FMVA</td>\n",
       "      <td>Core</td>\n",
       "      <td>3</td>\n",
       "      <td>2-3 hrs</td>\n",
       "      <td>197.0</td>\n",
       "    </tr>\n",
       "    <tr>\n",
       "      <th>3</th>\n",
       "      <td>10</td>\n",
       "      <td>Strongly Agree</td>\n",
       "      <td>Strongly Agree</td>\n",
       "      <td>Strongly Agree</td>\n",
       "      <td>263617</td>\n",
       "      <td>FMVA</td>\n",
       "      <td>Core</td>\n",
       "      <td>3</td>\n",
       "      <td>2-3 hrs</td>\n",
       "      <td>197.0</td>\n",
       "    </tr>\n",
       "    <tr>\n",
       "      <th>4</th>\n",
       "      <td>10</td>\n",
       "      <td>Strongly Agree</td>\n",
       "      <td>Strongly Agree</td>\n",
       "      <td>Strongly Agree</td>\n",
       "      <td>305095</td>\n",
       "      <td>FMVA</td>\n",
       "      <td>Core</td>\n",
       "      <td>3</td>\n",
       "      <td>2-3 hrs</td>\n",
       "      <td>197.0</td>\n",
       "    </tr>\n",
       "    <tr>\n",
       "      <th>...</th>\n",
       "      <td>...</td>\n",
       "      <td>...</td>\n",
       "      <td>...</td>\n",
       "      <td>...</td>\n",
       "      <td>...</td>\n",
       "      <td>...</td>\n",
       "      <td>...</td>\n",
       "      <td>...</td>\n",
       "      <td>...</td>\n",
       "      <td>...</td>\n",
       "    </tr>\n",
       "    <tr>\n",
       "      <th>619116</th>\n",
       "      <td>10</td>\n",
       "      <td>Strongly Agree</td>\n",
       "      <td>Strongly Agree</td>\n",
       "      <td>Strongly Agree</td>\n",
       "      <td>245227</td>\n",
       "      <td>FMVA</td>\n",
       "      <td>Core</td>\n",
       "      <td>3</td>\n",
       "      <td>2-3 hrs</td>\n",
       "      <td>197.0</td>\n",
       "    </tr>\n",
       "    <tr>\n",
       "      <th>619118</th>\n",
       "      <td>10</td>\n",
       "      <td>Strongly Agree</td>\n",
       "      <td>Strongly Agree</td>\n",
       "      <td>Strongly Agree</td>\n",
       "      <td>134180</td>\n",
       "      <td>FMVA</td>\n",
       "      <td>Core</td>\n",
       "      <td>3</td>\n",
       "      <td>2-3 hrs</td>\n",
       "      <td>197.0</td>\n",
       "    </tr>\n",
       "    <tr>\n",
       "      <th>619119</th>\n",
       "      <td>8</td>\n",
       "      <td>Agree</td>\n",
       "      <td>Agree</td>\n",
       "      <td>Agree</td>\n",
       "      <td>171726</td>\n",
       "      <td>FMVA</td>\n",
       "      <td>Core</td>\n",
       "      <td>3</td>\n",
       "      <td>2-3 hrs</td>\n",
       "      <td>197.0</td>\n",
       "    </tr>\n",
       "    <tr>\n",
       "      <th>619120</th>\n",
       "      <td>10</td>\n",
       "      <td>Strongly Agree</td>\n",
       "      <td>Strongly Agree</td>\n",
       "      <td>Strongly Agree</td>\n",
       "      <td>192369</td>\n",
       "      <td>FMVA</td>\n",
       "      <td>Core</td>\n",
       "      <td>3</td>\n",
       "      <td>2-3 hrs</td>\n",
       "      <td>197.0</td>\n",
       "    </tr>\n",
       "    <tr>\n",
       "      <th>619121</th>\n",
       "      <td>10</td>\n",
       "      <td>Strongly Agree</td>\n",
       "      <td>Strongly Agree</td>\n",
       "      <td>Strongly Agree</td>\n",
       "      <td>236987</td>\n",
       "      <td>FMVA</td>\n",
       "      <td>Core</td>\n",
       "      <td>3</td>\n",
       "      <td>2-3 hrs</td>\n",
       "      <td>197.0</td>\n",
       "    </tr>\n",
       "  </tbody>\n",
       "</table>\n",
       "<p>605667 rows × 10 columns</p>\n",
       "</div>"
      ],
      "text/plain": [
       "        Response_Q1     Response_Q2     Response_Q3     Response_Q4  \\\n",
       "0                 9           Agree           Agree           Agree   \n",
       "1                 9           Agree           Agree           Agree   \n",
       "2                10  Strongly Agree  Strongly Agree  Strongly Agree   \n",
       "3                10  Strongly Agree  Strongly Agree  Strongly Agree   \n",
       "4                10  Strongly Agree  Strongly Agree  Strongly Agree   \n",
       "...             ...             ...             ...             ...   \n",
       "619116           10  Strongly Agree  Strongly Agree  Strongly Agree   \n",
       "619118           10  Strongly Agree  Strongly Agree  Strongly Agree   \n",
       "619119            8           Agree           Agree           Agree   \n",
       "619120           10  Strongly Agree  Strongly Agree  Strongly Agree   \n",
       "619121           10  Strongly Agree  Strongly Agree  Strongly Agree   \n",
       "\n",
       "        CustomerID Program Requirement  Level VideoLenght  Price  \n",
       "0           198151    FMVA        Core      3     2-3 hrs  197.0  \n",
       "1           152550    FMVA        Core      3     2-3 hrs  197.0  \n",
       "2           191851    FMVA        Core      3     2-3 hrs  197.0  \n",
       "3           263617    FMVA        Core      3     2-3 hrs  197.0  \n",
       "4           305095    FMVA        Core      3     2-3 hrs  197.0  \n",
       "...            ...     ...         ...    ...         ...    ...  \n",
       "619116      245227    FMVA        Core      3     2-3 hrs  197.0  \n",
       "619118      134180    FMVA        Core      3     2-3 hrs  197.0  \n",
       "619119      171726    FMVA        Core      3     2-3 hrs  197.0  \n",
       "619120      192369    FMVA        Core      3     2-3 hrs  197.0  \n",
       "619121      236987    FMVA        Core      3     2-3 hrs  197.0  \n",
       "\n",
       "[605667 rows x 10 columns]"
      ]
     },
     "execution_count": 18,
     "metadata": {},
     "output_type": "execute_result"
    }
   ],
   "source": [
    "survey_df_clean"
   ]
  },
  {
   "cell_type": "markdown",
   "id": "b291c0f2-1883-498a-9318-57fdf5bd8369",
   "metadata": {},
   "source": [
    "### 2.2. Train/Test Split "
   ]
  },
  {
   "cell_type": "code",
   "execution_count": 125,
   "id": "592aa7da-6b3c-4174-816a-b1691cc60cdc",
   "metadata": {},
   "outputs": [
    {
     "data": {
      "text/html": [
       "<div>\n",
       "<style scoped>\n",
       "    .dataframe tbody tr th:only-of-type {\n",
       "        vertical-align: middle;\n",
       "    }\n",
       "\n",
       "    .dataframe tbody tr th {\n",
       "        vertical-align: top;\n",
       "    }\n",
       "\n",
       "    .dataframe thead th {\n",
       "        text-align: right;\n",
       "    }\n",
       "</style>\n",
       "<table border=\"1\" class=\"dataframe\">\n",
       "  <thead>\n",
       "    <tr style=\"text-align: right;\">\n",
       "      <th></th>\n",
       "      <th>Response_Q1</th>\n",
       "      <th>Response_Q2</th>\n",
       "      <th>Response_Q3</th>\n",
       "      <th>Response_Q4</th>\n",
       "      <th>CustomerID</th>\n",
       "      <th>Program</th>\n",
       "      <th>Requirement</th>\n",
       "      <th>Level</th>\n",
       "      <th>VideoLenght</th>\n",
       "      <th>Price</th>\n",
       "    </tr>\n",
       "  </thead>\n",
       "  <tbody>\n",
       "    <tr>\n",
       "      <th>222919</th>\n",
       "      <td>1</td>\n",
       "      <td>Strongly Disagree</td>\n",
       "      <td>Strongly Disagree</td>\n",
       "      <td>Strongly Disagree</td>\n",
       "      <td>268592</td>\n",
       "      <td>CMSA</td>\n",
       "      <td>Elective</td>\n",
       "      <td>4</td>\n",
       "      <td>Over 3 hrs</td>\n",
       "      <td>147.0</td>\n",
       "    </tr>\n",
       "    <tr>\n",
       "      <th>92686</th>\n",
       "      <td>8</td>\n",
       "      <td>Neutral</td>\n",
       "      <td>Agree</td>\n",
       "      <td>Agree</td>\n",
       "      <td>101246</td>\n",
       "      <td>FMVA</td>\n",
       "      <td>Prep</td>\n",
       "      <td>2</td>\n",
       "      <td>1-2 hrs</td>\n",
       "      <td>0.0</td>\n",
       "    </tr>\n",
       "    <tr>\n",
       "      <th>363329</th>\n",
       "      <td>10</td>\n",
       "      <td>Strongly Agree</td>\n",
       "      <td>Strongly Agree</td>\n",
       "      <td>Strongly Agree</td>\n",
       "      <td>122642</td>\n",
       "      <td>FMVA</td>\n",
       "      <td>Elective</td>\n",
       "      <td>2</td>\n",
       "      <td>2-3 hrs</td>\n",
       "      <td>97.0</td>\n",
       "    </tr>\n",
       "    <tr>\n",
       "      <th>401825</th>\n",
       "      <td>10</td>\n",
       "      <td>Strongly Agree</td>\n",
       "      <td>Strongly Agree</td>\n",
       "      <td>Strongly Agree</td>\n",
       "      <td>172724</td>\n",
       "      <td>FMVA</td>\n",
       "      <td>Prep</td>\n",
       "      <td>2</td>\n",
       "      <td>Under 1 hr</td>\n",
       "      <td>0.0</td>\n",
       "    </tr>\n",
       "    <tr>\n",
       "      <th>297372</th>\n",
       "      <td>8</td>\n",
       "      <td>Neutral</td>\n",
       "      <td>Agree</td>\n",
       "      <td>Agree</td>\n",
       "      <td>186949</td>\n",
       "      <td>ESG</td>\n",
       "      <td>Core</td>\n",
       "      <td>1</td>\n",
       "      <td>Under 1 hr</td>\n",
       "      <td>0.0</td>\n",
       "    </tr>\n",
       "  </tbody>\n",
       "</table>\n",
       "</div>"
      ],
      "text/plain": [
       "        Response_Q1        Response_Q2        Response_Q3        Response_Q4  \\\n",
       "222919            1  Strongly Disagree  Strongly Disagree  Strongly Disagree   \n",
       "92686             8            Neutral              Agree              Agree   \n",
       "363329           10     Strongly Agree     Strongly Agree     Strongly Agree   \n",
       "401825           10     Strongly Agree     Strongly Agree     Strongly Agree   \n",
       "297372            8            Neutral              Agree              Agree   \n",
       "\n",
       "        CustomerID Program Requirement  Level VideoLenght  Price  \n",
       "222919      268592    CMSA    Elective      4  Over 3 hrs  147.0  \n",
       "92686       101246    FMVA        Prep      2     1-2 hrs    0.0  \n",
       "363329      122642    FMVA    Elective      2     2-3 hrs   97.0  \n",
       "401825      172724    FMVA        Prep      2  Under 1 hr    0.0  \n",
       "297372      186949     ESG        Core      1  Under 1 hr    0.0  "
      ]
     },
     "execution_count": 125,
     "metadata": {},
     "output_type": "execute_result"
    }
   ],
   "source": [
    "from sklearn.model_selection import (\n",
    "    GridSearchCV,\n",
    "    cross_val_score,\n",
    "    cross_validate,\n",
    "    train_test_split,\n",
    ")\n",
    "\n",
    "train_df, test_df = train_test_split(survey_df_clean, test_size=0.10, random_state=123)\n",
    "train_df.head()"
   ]
  },
  {
   "cell_type": "markdown",
   "id": "33fd4e3f-32ff-40ee-ad19-06bd8626d931",
   "metadata": {},
   "source": [
    "### 2.3. Let's separate `X` and `y`"
   ]
  },
  {
   "cell_type": "code",
   "execution_count": 126,
   "id": "a6ceb43f-af62-41af-8293-6d834771d41d",
   "metadata": {},
   "outputs": [
    {
     "data": {
      "text/plain": [
       "(545100, 10)"
      ]
     },
     "execution_count": 126,
     "metadata": {},
     "output_type": "execute_result"
    }
   ],
   "source": [
    "train_df.shape"
   ]
  },
  {
   "cell_type": "code",
   "execution_count": 127,
   "id": "e947affe-59e1-44f1-af28-a9e4d397fb71",
   "metadata": {},
   "outputs": [],
   "source": [
    "X_train = train_df.drop(columns=[\"Response_Q1\"])\n",
    "y_train = train_df[\"Response_Q1\"]\n",
    "\n",
    "X_test = test_df.drop(columns=[\"Response_Q1\"])\n",
    "y_test = test_df[\"Response_Q1\"]"
   ]
  },
  {
   "cell_type": "markdown",
   "id": "a01248fe-2511-475e-9aef-2d512d6a317e",
   "metadata": {},
   "source": [
    "### 2.4. EDA"
   ]
  },
  {
   "cell_type": "code",
   "execution_count": 128,
   "id": "9c77fdea-f22c-41bb-8223-ef8062cd4d1b",
   "metadata": {},
   "outputs": [
    {
     "data": {
      "text/html": [
       "<div>\n",
       "<style scoped>\n",
       "    .dataframe tbody tr th:only-of-type {\n",
       "        vertical-align: middle;\n",
       "    }\n",
       "\n",
       "    .dataframe tbody tr th {\n",
       "        vertical-align: top;\n",
       "    }\n",
       "\n",
       "    .dataframe thead th {\n",
       "        text-align: right;\n",
       "    }\n",
       "</style>\n",
       "<table border=\"1\" class=\"dataframe\">\n",
       "  <thead>\n",
       "    <tr style=\"text-align: right;\">\n",
       "      <th></th>\n",
       "      <th>Response_Q1</th>\n",
       "      <th>CustomerID</th>\n",
       "      <th>Level</th>\n",
       "      <th>Price</th>\n",
       "    </tr>\n",
       "  </thead>\n",
       "  <tbody>\n",
       "    <tr>\n",
       "      <th>count</th>\n",
       "      <td>545100.000000</td>\n",
       "      <td>545100.000000</td>\n",
       "      <td>545100.000000</td>\n",
       "      <td>545100.000000</td>\n",
       "    </tr>\n",
       "    <tr>\n",
       "      <th>mean</th>\n",
       "      <td>8.904641</td>\n",
       "      <td>188468.585766</td>\n",
       "      <td>2.291411</td>\n",
       "      <td>64.497004</td>\n",
       "    </tr>\n",
       "    <tr>\n",
       "      <th>std</th>\n",
       "      <td>1.535084</td>\n",
       "      <td>68461.700074</td>\n",
       "      <td>0.818367</td>\n",
       "      <td>72.513035</td>\n",
       "    </tr>\n",
       "    <tr>\n",
       "      <th>min</th>\n",
       "      <td>1.000000</td>\n",
       "      <td>69810.000000</td>\n",
       "      <td>1.000000</td>\n",
       "      <td>0.000000</td>\n",
       "    </tr>\n",
       "    <tr>\n",
       "      <th>25%</th>\n",
       "      <td>8.000000</td>\n",
       "      <td>129349.000000</td>\n",
       "      <td>2.000000</td>\n",
       "      <td>0.000000</td>\n",
       "    </tr>\n",
       "    <tr>\n",
       "      <th>50%</th>\n",
       "      <td>10.000000</td>\n",
       "      <td>188690.000000</td>\n",
       "      <td>2.000000</td>\n",
       "      <td>0.000000</td>\n",
       "    </tr>\n",
       "    <tr>\n",
       "      <th>75%</th>\n",
       "      <td>10.000000</td>\n",
       "      <td>247709.000000</td>\n",
       "      <td>3.000000</td>\n",
       "      <td>97.000000</td>\n",
       "    </tr>\n",
       "    <tr>\n",
       "      <th>max</th>\n",
       "      <td>10.000000</td>\n",
       "      <td>307036.000000</td>\n",
       "      <td>5.000000</td>\n",
       "      <td>197.000000</td>\n",
       "    </tr>\n",
       "  </tbody>\n",
       "</table>\n",
       "</div>"
      ],
      "text/plain": [
       "         Response_Q1     CustomerID          Level          Price\n",
       "count  545100.000000  545100.000000  545100.000000  545100.000000\n",
       "mean        8.904641  188468.585766       2.291411      64.497004\n",
       "std         1.535084   68461.700074       0.818367      72.513035\n",
       "min         1.000000   69810.000000       1.000000       0.000000\n",
       "25%         8.000000  129349.000000       2.000000       0.000000\n",
       "50%        10.000000  188690.000000       2.000000       0.000000\n",
       "75%        10.000000  247709.000000       3.000000      97.000000\n",
       "max        10.000000  307036.000000       5.000000     197.000000"
      ]
     },
     "execution_count": 128,
     "metadata": {},
     "output_type": "execute_result"
    }
   ],
   "source": [
    "train_df.describe()"
   ]
  },
  {
   "cell_type": "code",
   "execution_count": 130,
   "id": "ee970948-763b-44d5-913e-f54edf1b25fe",
   "metadata": {},
   "outputs": [
    {
     "name": "stdout",
     "output_type": "stream",
     "text": [
      "<class 'pandas.core.frame.DataFrame'>\n",
      "Int64Index: 545100 entries, 222919 to 280955\n",
      "Data columns (total 10 columns):\n",
      " #   Column       Non-Null Count   Dtype  \n",
      "---  ------       --------------   -----  \n",
      " 0   Response_Q1  545100 non-null  int64  \n",
      " 1   Response_Q2  545100 non-null  object \n",
      " 2   Response_Q3  545100 non-null  object \n",
      " 3   Response_Q4  545100 non-null  object \n",
      " 4   CustomerID   545100 non-null  int64  \n",
      " 5   Program      545100 non-null  object \n",
      " 6   Requirement  545100 non-null  object \n",
      " 7   Level        545100 non-null  int64  \n",
      " 8   VideoLenght  545100 non-null  object \n",
      " 9   Price        545100 non-null  float64\n",
      "dtypes: float64(1), int64(3), object(6)\n",
      "memory usage: 45.7+ MB\n"
     ]
    }
   ],
   "source": [
    "train_df.info()"
   ]
  },
  {
   "cell_type": "markdown",
   "id": "a9a92e64-b583-4414-938f-234e9117c44d",
   "metadata": {},
   "source": [
    "## 3. Build the pipeline"
   ]
  },
  {
   "cell_type": "markdown",
   "id": "d307e340-6044-4e07-a51c-182ffe91acd7",
   "metadata": {},
   "source": [
    "### 3.1. Feature Types"
   ]
  },
  {
   "cell_type": "code",
   "execution_count": 140,
   "id": "1997f387-b191-4de7-8609-180309558e63",
   "metadata": {},
   "outputs": [
    {
     "data": {
      "text/plain": [
       "[['Strongly Agree', 'Agree', 'Neutral', 'Disagree', 'Strongly Disagree'],\n",
       " ['Strongly Agree', 'Agree', 'Neutral', 'Disagree', 'Strongly Disagree'],\n",
       " ['Strongly Agree', 'Agree', 'Neutral', 'Disagree', 'Strongly Disagree']]"
      ]
     },
     "execution_count": 140,
     "metadata": {},
     "output_type": "execute_result"
    }
   ],
   "source": [
    "drop_features = [\"CustomerID\"]\n",
    "#numeric_features = [\n",
    "#    \"Level\",\n",
    "#    \"Price\"\n",
    "#]\n",
    "ordinal_features_reg = [\n",
    "    \"Response_Q2\",\n",
    "    \"Response_Q3\",\n",
    "    \"Response_Q4\"\n",
    "]\n",
    "ordering = [\n",
    "    'Strongly Agree', \n",
    "    'Agree', \n",
    "    'Neutral', \n",
    "    'Disagree',\n",
    "    'Strongly Disagree'\n",
    "]\n",
    "\n",
    "categorical_features = [\n",
    "    \"Program\",\n",
    "    \"Requirement\"\n",
    "    \n",
    "]\n",
    "\n",
    "ordering_ordinal_reg = [ordering] * len(ordinal_features_reg)\n",
    "ordering_ordinal_reg"
   ]
  },
  {
   "cell_type": "markdown",
   "id": "09b04a3e-8814-44e2-a5c4-c592d5a08900",
   "metadata": {},
   "source": [
    "We'll pass the above as categories in our OrdinalEncoder\n",
    "\n",
    "- There are a bunch more ordinal features using different scales.\n",
    "  - These we'll be calling `ordinal_features_oth`. \n",
    "  - We are encoding them separately. "
   ]
  },
  {
   "cell_type": "code",
   "execution_count": 135,
   "id": "393fdebd-4ff9-4cd0-b330-bc9dd57cc175",
   "metadata": {},
   "outputs": [],
   "source": [
    "ordinal_features_oth = [\n",
    "    \"Level\",\n",
    "    \"VideoLenght\",\n",
    "    \"Price\"\n",
    "]\n",
    "\n",
    "ordering_ordinal_oth = [\n",
    "    [1, 2, 3, 4, 5],\n",
    "    ['Under 1 hr', '1-2 hrs', '2-3 hrs', 'Over 3 hrs'],\n",
    "    [0., 97., 99., 147., 197.],\n",
    "]"
   ]
  },
  {
   "cell_type": "markdown",
   "id": "46cc68a7-9477-451b-afff-90004dc4472e",
   "metadata": {},
   "source": [
    "### 3.2. Applying feature transformations\n",
    "\n",
    "- Since we have mixed feature types, let's use `ColumnTransformer` to apply different transformations on different features types.  "
   ]
  },
  {
   "cell_type": "code",
   "execution_count": 141,
   "id": "e9076133-b829-4a73-bbee-03948b4c4705",
   "metadata": {},
   "outputs": [],
   "source": [
    "from sklearn.pipeline import Pipeline, make_pipeline\n",
    "from sklearn.preprocessing import OneHotEncoder, OrdinalEncoder, StandardScaler\n",
    "from sklearn.compose import ColumnTransformer, make_column_transformer\n",
    "from sklearn.impute import SimpleImputer\n",
    "# numeric_transformer = make_pipeline(SimpleImputer(strategy=\"median\"), StandardScaler())\n",
    "ordinal_transformer_reg = make_pipeline(\n",
    "    SimpleImputer(strategy=\"most_frequent\"),\n",
    "    OrdinalEncoder(categories=ordering_ordinal_reg),\n",
    ")\n",
    "\n",
    "ordinal_transformer_oth = make_pipeline(\n",
    "    SimpleImputer(strategy=\"most_frequent\"),\n",
    "    OrdinalEncoder(categories=ordering_ordinal_oth),\n",
    ")\n",
    "\n",
    "categorical_transformer = make_pipeline(\n",
    "    SimpleImputer(strategy=\"constant\", fill_value=\"missing\"),\n",
    "    OneHotEncoder(handle_unknown=\"ignore\", sparse=False),\n",
    ")\n",
    "\n",
    "preprocessor = make_column_transformer(\n",
    "    (\"drop\", drop_features),\n",
    "    #(numeric_transformer, numeric_features),\n",
    "    (ordinal_transformer_reg, ordinal_features_reg),\n",
    "    (ordinal_transformer_oth, ordinal_features_oth),\n",
    "    (categorical_transformer, categorical_features),\n",
    ")"
   ]
  },
  {
   "cell_type": "markdown",
   "id": "449c67c8-4cce-455d-b05c-b5e23940a947",
   "metadata": {},
   "source": [
    "### 3.3. Examining the preprocessed data"
   ]
  },
  {
   "cell_type": "code",
   "execution_count": 142,
   "id": "1ceeec94-2eb6-42a3-bd7f-182b97d5d060",
   "metadata": {},
   "outputs": [
    {
     "data": {
      "text/plain": [
       "{'drop': 'drop',\n",
       " 'pipeline-1': Pipeline(steps=[('simpleimputer', SimpleImputer(strategy='most_frequent')),\n",
       "                 ('ordinalencoder',\n",
       "                  OrdinalEncoder(categories=[['Strongly Agree', 'Agree',\n",
       "                                              'Neutral', 'Disagree',\n",
       "                                              'Strongly Disagree'],\n",
       "                                             ['Strongly Agree', 'Agree',\n",
       "                                              'Neutral', 'Disagree',\n",
       "                                              'Strongly Disagree'],\n",
       "                                             ['Strongly Agree', 'Agree',\n",
       "                                              'Neutral', 'Disagree',\n",
       "                                              'Strongly Disagree']]))]),\n",
       " 'pipeline-2': Pipeline(steps=[('simpleimputer', SimpleImputer(strategy='most_frequent')),\n",
       "                 ('ordinalencoder',\n",
       "                  OrdinalEncoder(categories=[[1, 2, 3, 4, 5],\n",
       "                                             ['Under 1 hr', '1-2 hrs', '2-3 hrs',\n",
       "                                              'Over 3 hrs'],\n",
       "                                             [0.0, 97.0, 99.0, 147.0, 197.0]]))]),\n",
       " 'pipeline-3': Pipeline(steps=[('simpleimputer',\n",
       "                  SimpleImputer(fill_value='missing', strategy='constant')),\n",
       "                 ('onehotencoder',\n",
       "                  OneHotEncoder(handle_unknown='ignore', sparse=False))])}"
      ]
     },
     "execution_count": 142,
     "metadata": {},
     "output_type": "execute_result"
    }
   ],
   "source": [
    "preprocessor.fit(X_train)  # Calling fit to examine all the transformers.\n",
    "preprocessor.named_transformers_"
   ]
  },
  {
   "cell_type": "code",
   "execution_count": 146,
   "id": "4e8ae55d-39af-485c-b300-f0cd26365f85",
   "metadata": {},
   "outputs": [],
   "source": [
    "ohe_columns = list(\n",
    "    preprocessor.named_transformers_[\"pipeline-3\"]\n",
    "    .named_steps[\"onehotencoder\"]\n",
    "    .get_feature_names(categorical_features)\n",
    ")\n",
    "new_columns = (\n",
    "    ordinal_features_reg + ordinal_features_oth + ohe_columns\n",
    ")"
   ]
  },
  {
   "cell_type": "code",
   "execution_count": 1,
   "id": "7e045c01-a7ac-4104-adb4-666143dc1655",
   "metadata": {},
   "outputs": [
    {
     "ename": "NameError",
     "evalue": "name 'new_columns' is not defined",
     "output_type": "error",
     "traceback": [
      "\u001b[0;31m---------------------------------------------------------------------------\u001b[0m",
      "\u001b[0;31mNameError\u001b[0m                                 Traceback (most recent call last)",
      "\u001b[0;32m/var/folders/3z/vln54yld7pl4fbx7dy7pfg580000gp/T/ipykernel_8800/3258802911.py\u001b[0m in \u001b[0;36m<module>\u001b[0;34m\u001b[0m\n\u001b[0;32m----> 1\u001b[0;31m \u001b[0mnew_columns\u001b[0m\u001b[0;34m\u001b[0m\u001b[0;34m\u001b[0m\u001b[0m\n\u001b[0m",
      "\u001b[0;31mNameError\u001b[0m: name 'new_columns' is not defined"
     ]
    }
   ],
   "source": [
    "new_columns"
   ]
  },
  {
   "cell_type": "code",
   "execution_count": 148,
   "id": "0d6d3bab-9677-42b7-9e89-8cc5c816cc9b",
   "metadata": {},
   "outputs": [
    {
     "data": {
      "text/html": [
       "<div>\n",
       "<style scoped>\n",
       "    .dataframe tbody tr th:only-of-type {\n",
       "        vertical-align: middle;\n",
       "    }\n",
       "\n",
       "    .dataframe tbody tr th {\n",
       "        vertical-align: top;\n",
       "    }\n",
       "\n",
       "    .dataframe thead th {\n",
       "        text-align: right;\n",
       "    }\n",
       "</style>\n",
       "<table border=\"1\" class=\"dataframe\">\n",
       "  <thead>\n",
       "    <tr style=\"text-align: right;\">\n",
       "      <th></th>\n",
       "      <th>Response_Q2</th>\n",
       "      <th>Response_Q3</th>\n",
       "      <th>Response_Q4</th>\n",
       "      <th>Level</th>\n",
       "      <th>VideoLenght</th>\n",
       "      <th>Price</th>\n",
       "      <th>Program_ALL PROGRAMS</th>\n",
       "      <th>Program_BIDA</th>\n",
       "      <th>Program_BIDA, FMVA</th>\n",
       "      <th>Program_CBCA</th>\n",
       "      <th>...</th>\n",
       "      <th>Program_CRE</th>\n",
       "      <th>Program_Cryptocurrency</th>\n",
       "      <th>Program_ESG</th>\n",
       "      <th>Program_FMVA</th>\n",
       "      <th>Program_FPWMA</th>\n",
       "      <th>Program_ML</th>\n",
       "      <th>Requirement_Case Study</th>\n",
       "      <th>Requirement_Core</th>\n",
       "      <th>Requirement_Elective</th>\n",
       "      <th>Requirement_Prep</th>\n",
       "    </tr>\n",
       "  </thead>\n",
       "  <tbody>\n",
       "    <tr>\n",
       "      <th>222919</th>\n",
       "      <td>4.0</td>\n",
       "      <td>4.0</td>\n",
       "      <td>4.0</td>\n",
       "      <td>3.0</td>\n",
       "      <td>3.0</td>\n",
       "      <td>3.0</td>\n",
       "      <td>0.0</td>\n",
       "      <td>0.0</td>\n",
       "      <td>0.0</td>\n",
       "      <td>0.0</td>\n",
       "      <td>...</td>\n",
       "      <td>0.0</td>\n",
       "      <td>0.0</td>\n",
       "      <td>0.0</td>\n",
       "      <td>0.0</td>\n",
       "      <td>0.0</td>\n",
       "      <td>0.0</td>\n",
       "      <td>0.0</td>\n",
       "      <td>0.0</td>\n",
       "      <td>1.0</td>\n",
       "      <td>0.0</td>\n",
       "    </tr>\n",
       "    <tr>\n",
       "      <th>92686</th>\n",
       "      <td>2.0</td>\n",
       "      <td>1.0</td>\n",
       "      <td>1.0</td>\n",
       "      <td>1.0</td>\n",
       "      <td>1.0</td>\n",
       "      <td>0.0</td>\n",
       "      <td>0.0</td>\n",
       "      <td>0.0</td>\n",
       "      <td>0.0</td>\n",
       "      <td>0.0</td>\n",
       "      <td>...</td>\n",
       "      <td>0.0</td>\n",
       "      <td>0.0</td>\n",
       "      <td>0.0</td>\n",
       "      <td>1.0</td>\n",
       "      <td>0.0</td>\n",
       "      <td>0.0</td>\n",
       "      <td>0.0</td>\n",
       "      <td>0.0</td>\n",
       "      <td>0.0</td>\n",
       "      <td>1.0</td>\n",
       "    </tr>\n",
       "    <tr>\n",
       "      <th>363329</th>\n",
       "      <td>0.0</td>\n",
       "      <td>0.0</td>\n",
       "      <td>0.0</td>\n",
       "      <td>1.0</td>\n",
       "      <td>2.0</td>\n",
       "      <td>1.0</td>\n",
       "      <td>0.0</td>\n",
       "      <td>0.0</td>\n",
       "      <td>0.0</td>\n",
       "      <td>0.0</td>\n",
       "      <td>...</td>\n",
       "      <td>0.0</td>\n",
       "      <td>0.0</td>\n",
       "      <td>0.0</td>\n",
       "      <td>1.0</td>\n",
       "      <td>0.0</td>\n",
       "      <td>0.0</td>\n",
       "      <td>0.0</td>\n",
       "      <td>0.0</td>\n",
       "      <td>1.0</td>\n",
       "      <td>0.0</td>\n",
       "    </tr>\n",
       "    <tr>\n",
       "      <th>401825</th>\n",
       "      <td>0.0</td>\n",
       "      <td>0.0</td>\n",
       "      <td>0.0</td>\n",
       "      <td>1.0</td>\n",
       "      <td>0.0</td>\n",
       "      <td>0.0</td>\n",
       "      <td>0.0</td>\n",
       "      <td>0.0</td>\n",
       "      <td>0.0</td>\n",
       "      <td>0.0</td>\n",
       "      <td>...</td>\n",
       "      <td>0.0</td>\n",
       "      <td>0.0</td>\n",
       "      <td>0.0</td>\n",
       "      <td>1.0</td>\n",
       "      <td>0.0</td>\n",
       "      <td>0.0</td>\n",
       "      <td>0.0</td>\n",
       "      <td>0.0</td>\n",
       "      <td>0.0</td>\n",
       "      <td>1.0</td>\n",
       "    </tr>\n",
       "    <tr>\n",
       "      <th>297372</th>\n",
       "      <td>2.0</td>\n",
       "      <td>1.0</td>\n",
       "      <td>1.0</td>\n",
       "      <td>0.0</td>\n",
       "      <td>0.0</td>\n",
       "      <td>0.0</td>\n",
       "      <td>0.0</td>\n",
       "      <td>0.0</td>\n",
       "      <td>0.0</td>\n",
       "      <td>0.0</td>\n",
       "      <td>...</td>\n",
       "      <td>0.0</td>\n",
       "      <td>0.0</td>\n",
       "      <td>1.0</td>\n",
       "      <td>0.0</td>\n",
       "      <td>0.0</td>\n",
       "      <td>0.0</td>\n",
       "      <td>0.0</td>\n",
       "      <td>1.0</td>\n",
       "      <td>0.0</td>\n",
       "      <td>0.0</td>\n",
       "    </tr>\n",
       "  </tbody>\n",
       "</table>\n",
       "<p>5 rows × 21 columns</p>\n",
       "</div>"
      ],
      "text/plain": [
       "        Response_Q2  Response_Q3  Response_Q4  Level  VideoLenght  Price  \\\n",
       "222919          4.0          4.0          4.0    3.0          3.0    3.0   \n",
       "92686           2.0          1.0          1.0    1.0          1.0    0.0   \n",
       "363329          0.0          0.0          0.0    1.0          2.0    1.0   \n",
       "401825          0.0          0.0          0.0    1.0          0.0    0.0   \n",
       "297372          2.0          1.0          1.0    0.0          0.0    0.0   \n",
       "\n",
       "        Program_ALL PROGRAMS  Program_BIDA  Program_BIDA, FMVA  Program_CBCA  \\\n",
       "222919                   0.0           0.0                 0.0           0.0   \n",
       "92686                    0.0           0.0                 0.0           0.0   \n",
       "363329                   0.0           0.0                 0.0           0.0   \n",
       "401825                   0.0           0.0                 0.0           0.0   \n",
       "297372                   0.0           0.0                 0.0           0.0   \n",
       "\n",
       "        ...  Program_CRE  Program_Cryptocurrency  Program_ESG  Program_FMVA  \\\n",
       "222919  ...          0.0                     0.0          0.0           0.0   \n",
       "92686   ...          0.0                     0.0          0.0           1.0   \n",
       "363329  ...          0.0                     0.0          0.0           1.0   \n",
       "401825  ...          0.0                     0.0          0.0           1.0   \n",
       "297372  ...          0.0                     0.0          1.0           0.0   \n",
       "\n",
       "        Program_FPWMA  Program_ML  Requirement_Case Study  Requirement_Core  \\\n",
       "222919            0.0         0.0                     0.0               0.0   \n",
       "92686             0.0         0.0                     0.0               0.0   \n",
       "363329            0.0         0.0                     0.0               0.0   \n",
       "401825            0.0         0.0                     0.0               0.0   \n",
       "297372            0.0         0.0                     0.0               1.0   \n",
       "\n",
       "        Requirement_Elective  Requirement_Prep  \n",
       "222919                   1.0               0.0  \n",
       "92686                    0.0               1.0  \n",
       "363329                   1.0               0.0  \n",
       "401825                   0.0               1.0  \n",
       "297372                   0.0               0.0  \n",
       "\n",
       "[5 rows x 21 columns]"
      ]
     },
     "execution_count": 148,
     "metadata": {},
     "output_type": "execute_result"
    }
   ],
   "source": [
    "X_train_enc = pd.DataFrame(\n",
    "    preprocessor.transform(X_train), index=X_train.index, columns=new_columns\n",
    ")\n",
    "X_train_enc.head()"
   ]
  },
  {
   "cell_type": "code",
   "execution_count": 150,
   "id": "31e97b65-6cae-4336-856e-a8daa19c9111",
   "metadata": {},
   "outputs": [
    {
     "data": {
      "text/plain": [
       "(545100, 21)"
      ]
     },
     "execution_count": 150,
     "metadata": {},
     "output_type": "execute_result"
    }
   ],
   "source": [
    "X_train_enc.shape"
   ]
  },
  {
   "cell_type": "markdown",
   "id": "4e8ab56f-6c1f-492a-be36-7c62f51656b7",
   "metadata": {},
   "source": [
    "### 3.4. Model building "
   ]
  },
  {
   "cell_type": "markdown",
   "id": "37846baf-7e87-4f79-8381-cca007c06fcd",
   "metadata": {},
   "source": [
    "#### 3.4.1. `DummyRegressor`"
   ]
  },
  {
   "cell_type": "code",
   "execution_count": 153,
   "id": "cc6e35b7-a79f-4ad7-81a1-f8da58c68d18",
   "metadata": {},
   "outputs": [
    {
     "data": {
      "text/html": [
       "<div>\n",
       "<style scoped>\n",
       "    .dataframe tbody tr th:only-of-type {\n",
       "        vertical-align: middle;\n",
       "    }\n",
       "\n",
       "    .dataframe tbody tr th {\n",
       "        vertical-align: top;\n",
       "    }\n",
       "\n",
       "    .dataframe thead th {\n",
       "        text-align: right;\n",
       "    }\n",
       "</style>\n",
       "<table border=\"1\" class=\"dataframe\">\n",
       "  <thead>\n",
       "    <tr style=\"text-align: right;\">\n",
       "      <th></th>\n",
       "      <th>fit_time</th>\n",
       "      <th>score_time</th>\n",
       "      <th>test_score</th>\n",
       "      <th>train_score</th>\n",
       "    </tr>\n",
       "  </thead>\n",
       "  <tbody>\n",
       "    <tr>\n",
       "      <th>0</th>\n",
       "      <td>0.241748</td>\n",
       "      <td>0.007085</td>\n",
       "      <td>-1.030719e-05</td>\n",
       "      <td>0.0</td>\n",
       "    </tr>\n",
       "    <tr>\n",
       "      <th>1</th>\n",
       "      <td>0.086172</td>\n",
       "      <td>0.002292</td>\n",
       "      <td>-1.589615e-09</td>\n",
       "      <td>0.0</td>\n",
       "    </tr>\n",
       "    <tr>\n",
       "      <th>2</th>\n",
       "      <td>0.024373</td>\n",
       "      <td>0.003855</td>\n",
       "      <td>-3.997249e-06</td>\n",
       "      <td>0.0</td>\n",
       "    </tr>\n",
       "    <tr>\n",
       "      <th>3</th>\n",
       "      <td>0.023990</td>\n",
       "      <td>0.001145</td>\n",
       "      <td>-5.357532e-06</td>\n",
       "      <td>0.0</td>\n",
       "    </tr>\n",
       "    <tr>\n",
       "      <th>4</th>\n",
       "      <td>0.019756</td>\n",
       "      <td>0.000399</td>\n",
       "      <td>-7.710638e-07</td>\n",
       "      <td>0.0</td>\n",
       "    </tr>\n",
       "    <tr>\n",
       "      <th>5</th>\n",
       "      <td>0.055854</td>\n",
       "      <td>0.000410</td>\n",
       "      <td>-2.983805e-08</td>\n",
       "      <td>0.0</td>\n",
       "    </tr>\n",
       "    <tr>\n",
       "      <th>6</th>\n",
       "      <td>0.019461</td>\n",
       "      <td>0.000387</td>\n",
       "      <td>-7.705265e-08</td>\n",
       "      <td>0.0</td>\n",
       "    </tr>\n",
       "    <tr>\n",
       "      <th>7</th>\n",
       "      <td>0.020235</td>\n",
       "      <td>0.000460</td>\n",
       "      <td>-6.141694e-06</td>\n",
       "      <td>0.0</td>\n",
       "    </tr>\n",
       "    <tr>\n",
       "      <th>8</th>\n",
       "      <td>0.020253</td>\n",
       "      <td>0.000399</td>\n",
       "      <td>-3.465473e-05</td>\n",
       "      <td>0.0</td>\n",
       "    </tr>\n",
       "    <tr>\n",
       "      <th>9</th>\n",
       "      <td>0.019398</td>\n",
       "      <td>0.000387</td>\n",
       "      <td>-1.948738e-05</td>\n",
       "      <td>0.0</td>\n",
       "    </tr>\n",
       "  </tbody>\n",
       "</table>\n",
       "</div>"
      ],
      "text/plain": [
       "   fit_time  score_time    test_score  train_score\n",
       "0  0.241748    0.007085 -1.030719e-05          0.0\n",
       "1  0.086172    0.002292 -1.589615e-09          0.0\n",
       "2  0.024373    0.003855 -3.997249e-06          0.0\n",
       "3  0.023990    0.001145 -5.357532e-06          0.0\n",
       "4  0.019756    0.000399 -7.710638e-07          0.0\n",
       "5  0.055854    0.000410 -2.983805e-08          0.0\n",
       "6  0.019461    0.000387 -7.705265e-08          0.0\n",
       "7  0.020235    0.000460 -6.141694e-06          0.0\n",
       "8  0.020253    0.000399 -3.465473e-05          0.0\n",
       "9  0.019398    0.000387 -1.948738e-05          0.0"
      ]
     },
     "execution_count": 153,
     "metadata": {},
     "output_type": "execute_result"
    }
   ],
   "source": [
    "dummy = DummyRegressor()\n",
    "pd.DataFrame(cross_validate(dummy, X_train, y_train, cv=10, return_train_score=True))"
   ]
  },
  {
   "cell_type": "markdown",
   "id": "31c50bed-29f3-4b56-a35d-39a0b6580992",
   "metadata": {},
   "source": [
    "#### 3.4.2. Let's try a linear model: `Ridge`"
   ]
  },
  {
   "cell_type": "code",
   "execution_count": 154,
   "id": "e0ade78c-cfd9-4dfa-90c9-451fcb40ebbe",
   "metadata": {},
   "outputs": [],
   "source": [
    "lr = make_pipeline(preprocessor, Ridge())\n",
    "lr.fit(X_train, y_train);"
   ]
  },
  {
   "cell_type": "code",
   "execution_count": 155,
   "id": "0b976767-e4a8-408e-9b47-4db3db901d2e",
   "metadata": {},
   "outputs": [
    {
     "data": {
      "text/plain": [
       "array([ 9.98645889,  9.90589103,  9.99470247,  9.91754027,  9.99470247,\n",
       "        9.86696121,  6.47348003,  8.22584767, 10.10430823,  8.14527981])"
      ]
     },
     "execution_count": 155,
     "metadata": {},
     "output_type": "execute_result"
    }
   ],
   "source": [
    "lr_preds = lr.predict(X_test)\n",
    "lr_preds[:10]"
   ]
  },
  {
   "cell_type": "code",
   "execution_count": 156,
   "id": "a578d503-7de1-4c9c-a1b2-7ee0d7e11171",
   "metadata": {},
   "outputs": [
    {
     "data": {
      "text/plain": [
       "(10.189552442919974, 2.6580962428754393)"
      ]
     },
     "execution_count": 156,
     "metadata": {},
     "output_type": "execute_result"
    }
   ],
   "source": [
    "lr_preds.max(), lr_preds.min()"
   ]
  },
  {
   "cell_type": "code",
   "execution_count": 157,
   "id": "06273ae9-2190-448d-ab45-3a84dea41047",
   "metadata": {},
   "outputs": [
    {
     "name": "stdout",
     "output_type": "stream",
     "text": [
      "Smallest coefficient:  -0.8183088266121012\n",
      "Largest coefficient: 0.23146205918514998\n"
     ]
    }
   ],
   "source": [
    "print(\"Smallest coefficient: \", lr.named_steps[\"ridge\"].coef_.min())\n",
    "print(\"Largest coefficient:\", lr.named_steps[\"ridge\"].coef_.max())"
   ]
  },
  {
   "cell_type": "code",
   "execution_count": 158,
   "id": "98026e78-3021-4d71-a446-c3e2c96dc191",
   "metadata": {},
   "outputs": [
    {
     "data": {
      "text/html": [
       "<div>\n",
       "<style scoped>\n",
       "    .dataframe tbody tr th:only-of-type {\n",
       "        vertical-align: middle;\n",
       "    }\n",
       "\n",
       "    .dataframe tbody tr th {\n",
       "        vertical-align: top;\n",
       "    }\n",
       "\n",
       "    .dataframe thead th {\n",
       "        text-align: right;\n",
       "    }\n",
       "</style>\n",
       "<table border=\"1\" class=\"dataframe\">\n",
       "  <thead>\n",
       "    <tr style=\"text-align: right;\">\n",
       "      <th></th>\n",
       "      <th>fit_time</th>\n",
       "      <th>score_time</th>\n",
       "      <th>test_score</th>\n",
       "      <th>train_score</th>\n",
       "    </tr>\n",
       "  </thead>\n",
       "  <tbody>\n",
       "    <tr>\n",
       "      <th>0</th>\n",
       "      <td>1.643657</td>\n",
       "      <td>0.103001</td>\n",
       "      <td>0.523283</td>\n",
       "      <td>0.523397</td>\n",
       "    </tr>\n",
       "    <tr>\n",
       "      <th>1</th>\n",
       "      <td>1.404169</td>\n",
       "      <td>0.089758</td>\n",
       "      <td>0.526797</td>\n",
       "      <td>0.523006</td>\n",
       "    </tr>\n",
       "    <tr>\n",
       "      <th>2</th>\n",
       "      <td>1.244199</td>\n",
       "      <td>0.107367</td>\n",
       "      <td>0.520721</td>\n",
       "      <td>0.523679</td>\n",
       "    </tr>\n",
       "    <tr>\n",
       "      <th>3</th>\n",
       "      <td>1.250920</td>\n",
       "      <td>0.085882</td>\n",
       "      <td>0.524960</td>\n",
       "      <td>0.523211</td>\n",
       "    </tr>\n",
       "    <tr>\n",
       "      <th>4</th>\n",
       "      <td>1.150871</td>\n",
       "      <td>0.086969</td>\n",
       "      <td>0.522890</td>\n",
       "      <td>0.523440</td>\n",
       "    </tr>\n",
       "    <tr>\n",
       "      <th>5</th>\n",
       "      <td>1.117419</td>\n",
       "      <td>0.084705</td>\n",
       "      <td>0.523764</td>\n",
       "      <td>0.523343</td>\n",
       "    </tr>\n",
       "    <tr>\n",
       "      <th>6</th>\n",
       "      <td>1.243207</td>\n",
       "      <td>0.085785</td>\n",
       "      <td>0.521355</td>\n",
       "      <td>0.523613</td>\n",
       "    </tr>\n",
       "    <tr>\n",
       "      <th>7</th>\n",
       "      <td>1.172441</td>\n",
       "      <td>0.088617</td>\n",
       "      <td>0.516169</td>\n",
       "      <td>0.524181</td>\n",
       "    </tr>\n",
       "    <tr>\n",
       "      <th>8</th>\n",
       "      <td>1.224478</td>\n",
       "      <td>0.090016</td>\n",
       "      <td>0.527742</td>\n",
       "      <td>0.522891</td>\n",
       "    </tr>\n",
       "    <tr>\n",
       "      <th>9</th>\n",
       "      <td>1.268668</td>\n",
       "      <td>0.086690</td>\n",
       "      <td>0.525657</td>\n",
       "      <td>0.523133</td>\n",
       "    </tr>\n",
       "  </tbody>\n",
       "</table>\n",
       "</div>"
      ],
      "text/plain": [
       "   fit_time  score_time  test_score  train_score\n",
       "0  1.643657    0.103001    0.523283     0.523397\n",
       "1  1.404169    0.089758    0.526797     0.523006\n",
       "2  1.244199    0.107367    0.520721     0.523679\n",
       "3  1.250920    0.085882    0.524960     0.523211\n",
       "4  1.150871    0.086969    0.522890     0.523440\n",
       "5  1.117419    0.084705    0.523764     0.523343\n",
       "6  1.243207    0.085785    0.521355     0.523613\n",
       "7  1.172441    0.088617    0.516169     0.524181\n",
       "8  1.224478    0.090016    0.527742     0.522891\n",
       "9  1.268668    0.086690    0.525657     0.523133"
      ]
     },
     "execution_count": 158,
     "metadata": {},
     "output_type": "execute_result"
    }
   ],
   "source": [
    "lr_pipe = make_pipeline(preprocessor, Ridge())\n",
    "pd.DataFrame(cross_validate(lr_pipe, X_train, y_train, cv=10, return_train_score=True))"
   ]
  },
  {
   "cell_type": "markdown",
   "id": "2916950f-1f35-4480-aa3b-06e6267cd04e",
   "metadata": {},
   "source": [
    "##### 3.4.2.1. Tuning `alpha` hyperparameter of `Ridge`\n",
    "- Recall that `Ridge` has a hyperparameter `alpha` that controls the fundamental tradeoff.\n",
    "- This is like `C` in `LogisticRegression` but, annoyingly, `alpha` is the inverse of `C`.\n",
    "- That is, large `C` is like small `alpha` and vice versa.\n",
    "- Smaller `alpha`: lower training error (overfitting)"
   ]
  },
  {
   "cell_type": "code",
   "execution_count": 160,
   "id": "cc5a0f54-0f57-4e13-bf80-9b69ba020725",
   "metadata": {},
   "outputs": [],
   "source": [
    "param_grid = {\"ridge__alpha\": 10.0 ** np.arange(-6, 6, 1)}\n",
    "\n",
    "pipe_ridge = make_pipeline(preprocessor, Ridge())\n",
    "\n",
    "search = GridSearchCV(pipe_ridge, param_grid, return_train_score=True, n_jobs=-1)\n",
    "search.fit(X_train, y_train)\n",
    "train_scores = search.cv_results_[\"mean_train_score\"]\n",
    "cv_scores = search.cv_results_[\"mean_test_score\"]"
   ]
  },
  {
   "cell_type": "code",
   "execution_count": 161,
   "id": "acdd5392-f801-45b4-b6c8-90fde5a2886f",
   "metadata": {},
   "outputs": [
    {
     "data": {
      "image/png": "[encoded data removed]",
      "text/plain": [
       "<Figure size 432x288 with 1 Axes>"
      ]
     },
     "metadata": {
      "needs_background": "light"
     },
     "output_type": "display_data"
    }
   ],
   "source": [
    "plt.semilogx(param_grid[\"ridge__alpha\"], train_scores.tolist(), label=\"train\")\n",
    "plt.semilogx(param_grid[\"ridge__alpha\"], cv_scores.tolist(), label=\"cv\")\n",
    "plt.legend()\n",
    "plt.xlabel(\"alpha\")\n",
    "plt.ylabel(\"score\");"
   ]
  },
  {
   "cell_type": "code",
   "execution_count": 164,
   "id": "98f573ec-ffbf-4342-bfdd-7a181711752c",
   "metadata": {},
   "outputs": [
    {
     "data": {
      "text/plain": [
       "{'ridge__alpha': 100.0}"
      ]
     },
     "execution_count": 164,
     "metadata": {},
     "output_type": "execute_result"
    }
   ],
   "source": [
    "best_alpha = search.best_params_\n",
    "best_alpha"
   ]
  },
  {
   "cell_type": "code",
   "execution_count": 162,
   "id": "b6fa97c8-7d9d-4bae-9ef2-9bb1c5126064",
   "metadata": {},
   "outputs": [
    {
     "data": {
      "text/plain": [
       "0.5233469683047616"
      ]
     },
     "execution_count": 162,
     "metadata": {},
     "output_type": "execute_result"
    }
   ],
   "source": [
    "search.best_score_"
   ]
  },
  {
   "cell_type": "code",
   "execution_count": 165,
   "id": "ea5099c0-3188-4820-9a86-831c0f020ff5",
   "metadata": {},
   "outputs": [
    {
     "data": {
      "text/html": [
       "<div>\n",
       "<style scoped>\n",
       "    .dataframe tbody tr th:only-of-type {\n",
       "        vertical-align: middle;\n",
       "    }\n",
       "\n",
       "    .dataframe tbody tr th {\n",
       "        vertical-align: top;\n",
       "    }\n",
       "\n",
       "    .dataframe thead th {\n",
       "        text-align: right;\n",
       "    }\n",
       "</style>\n",
       "<table border=\"1\" class=\"dataframe\">\n",
       "  <thead>\n",
       "    <tr style=\"text-align: right;\">\n",
       "      <th></th>\n",
       "      <th>Coefficients</th>\n",
       "    </tr>\n",
       "  </thead>\n",
       "  <tbody>\n",
       "    <tr>\n",
       "      <th>Program_ESG</th>\n",
       "      <td>0.227761</td>\n",
       "    </tr>\n",
       "    <tr>\n",
       "      <th>Program_Cryptocurrency</th>\n",
       "      <td>0.126559</td>\n",
       "    </tr>\n",
       "    <tr>\n",
       "      <th>Requirement_Prep</th>\n",
       "      <td>0.089563</td>\n",
       "    </tr>\n",
       "    <tr>\n",
       "      <th>Program_FPWMA</th>\n",
       "      <td>0.066501</td>\n",
       "    </tr>\n",
       "    <tr>\n",
       "      <th>Level</th>\n",
       "      <td>0.029076</td>\n",
       "    </tr>\n",
       "    <tr>\n",
       "      <th>Program_CRE</th>\n",
       "      <td>0.016992</td>\n",
       "    </tr>\n",
       "    <tr>\n",
       "      <th>VideoLenght</th>\n",
       "      <td>0.008136</td>\n",
       "    </tr>\n",
       "    <tr>\n",
       "      <th>Price</th>\n",
       "      <td>-0.005960</td>\n",
       "    </tr>\n",
       "    <tr>\n",
       "      <th>Requirement_Core</th>\n",
       "      <td>-0.018761</td>\n",
       "    </tr>\n",
       "    <tr>\n",
       "      <th>Requirement_Case Study</th>\n",
       "      <td>-0.019828</td>\n",
       "    </tr>\n",
       "    <tr>\n",
       "      <th>Program_FMVA</th>\n",
       "      <td>-0.024785</td>\n",
       "    </tr>\n",
       "    <tr>\n",
       "      <th>Program_BIDA</th>\n",
       "      <td>-0.030746</td>\n",
       "    </tr>\n",
       "    <tr>\n",
       "      <th>Program_BIDA, FMVA</th>\n",
       "      <td>-0.031099</td>\n",
       "    </tr>\n",
       "    <tr>\n",
       "      <th>Program_CMSA</th>\n",
       "      <td>-0.033451</td>\n",
       "    </tr>\n",
       "    <tr>\n",
       "      <th>Program_CBCA</th>\n",
       "      <td>-0.048573</td>\n",
       "    </tr>\n",
       "    <tr>\n",
       "      <th>Requirement_Elective</th>\n",
       "      <td>-0.050973</td>\n",
       "    </tr>\n",
       "    <tr>\n",
       "      <th>Program_ML</th>\n",
       "      <td>-0.095000</td>\n",
       "    </tr>\n",
       "    <tr>\n",
       "      <th>Program_ALL PROGRAMS</th>\n",
       "      <td>-0.174158</td>\n",
       "    </tr>\n",
       "    <tr>\n",
       "      <th>Response_Q4</th>\n",
       "      <td>-0.421592</td>\n",
       "    </tr>\n",
       "    <tr>\n",
       "      <th>Response_Q3</th>\n",
       "      <td>-0.520854</td>\n",
       "    </tr>\n",
       "    <tr>\n",
       "      <th>Response_Q2</th>\n",
       "      <td>-0.817893</td>\n",
       "    </tr>\n",
       "  </tbody>\n",
       "</table>\n",
       "</div>"
      ],
      "text/plain": [
       "                        Coefficients\n",
       "Program_ESG                 0.227761\n",
       "Program_Cryptocurrency      0.126559\n",
       "Requirement_Prep            0.089563\n",
       "Program_FPWMA               0.066501\n",
       "Level                       0.029076\n",
       "Program_CRE                 0.016992\n",
       "VideoLenght                 0.008136\n",
       "Price                      -0.005960\n",
       "Requirement_Core           -0.018761\n",
       "Requirement_Case Study     -0.019828\n",
       "Program_FMVA               -0.024785\n",
       "Program_BIDA               -0.030746\n",
       "Program_BIDA, FMVA         -0.031099\n",
       "Program_CMSA               -0.033451\n",
       "Program_CBCA               -0.048573\n",
       "Requirement_Elective       -0.050973\n",
       "Program_ML                 -0.095000\n",
       "Program_ALL PROGRAMS       -0.174158\n",
       "Response_Q4                -0.421592\n",
       "Response_Q3                -0.520854\n",
       "Response_Q2                -0.817893"
      ]
     },
     "execution_count": 165,
     "metadata": {},
     "output_type": "execute_result"
    }
   ],
   "source": [
    "pipe_bigalpha = make_pipeline(preprocessor, Ridge(alpha=100))\n",
    "pipe_bigalpha.fit(X_train, y_train)\n",
    "bigalpha_coeffs = pipe_bigalpha.named_steps[\"ridge\"].coef_\n",
    "pd.DataFrame(\n",
    "    data=bigalpha_coeffs, index=new_columns, columns=[\"Coefficients\"]\n",
    ").sort_values(by=\"Coefficients\", ascending=False)"
   ]
  }
 ],
 "metadata": {
  "kernelspec": {
   "display_name": "Python 3 (ipykernel)",
   "language": "python",
   "name": "python3"
  },
  "language_info": {
   "codemirror_mode": {
    "name": "ipython",
    "version": 3
   },
   "file_extension": ".py",
   "mimetype": "text/x-python",
   "name": "python",
   "nbconvert_exporter": "python",
   "pygments_lexer": "ipython3",
   "version": "3.9.5"
  }
 },
 "nbformat": 4,
 "nbformat_minor": 5
}
