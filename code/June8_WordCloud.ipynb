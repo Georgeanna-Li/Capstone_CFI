{
 "cells": [
  {
   "cell_type": "code",
   "execution_count": 24,
   "id": "24c9a17f-39e5-4e8b-ae69-6ef0a3e02480",
   "metadata": {},
   "outputs": [],
   "source": [
    "import matplotlib.pyplot as plt\n",
    "import numpy as np\n",
    "import pandas as pd\n",
    "from sklearn.compose import (\n",
    "    ColumnTransformer,\n",
    "    TransformedTargetRegressor,\n",
    "    make_column_transformer,\n",
    ")\n",
    "from sklearn.dummy import DummyRegressor\n",
    "from sklearn.ensemble import RandomForestRegressor\n",
    "from sklearn.impute import SimpleImputer\n",
    "from sklearn.linear_model import Ridge, RidgeCV\n",
    "from sklearn.metrics import make_scorer, mean_squared_error, r2_score\n",
    "from sklearn.model_selection import (\n",
    "    GridSearchCV,\n",
    "    cross_val_score,\n",
    "    cross_validate,\n",
    "    train_test_split,\n",
    ")\n",
    "from sklearn.pipeline import Pipeline, make_pipeline\n",
    "from sklearn.preprocessing import OneHotEncoder, OrdinalEncoder, StandardScaler\n",
    "from sklearn.tree import DecisionTreeRegressor\n",
    "#! pip install textblob\n",
    "from textblob import TextBlob\n",
    "\n",
    "%matplotlib inline"
   ]
  },
  {
   "cell_type": "code",
   "execution_count": 25,
   "id": "40b8f2a6-a4b3-4321-8ad4-71b97fcfa16e",
   "metadata": {},
   "outputs": [],
   "source": [
    "import os\n",
    "\n",
    "%matplotlib inline\n",
    "import string\n",
    "import sys\n",
    "from collections import deque\n",
    "\n",
    "import matplotlib.pyplot as plt\n",
    "import numpy as np\n",
    "import pandas as pd\n",
    "\n",
    "sys.path.append(\"code/.\")\n",
    "\n",
    "#from plotting_functions import *\n",
    "from sklearn import datasets\n",
    "from sklearn.compose import ColumnTransformer, make_column_transformer\n",
    "from sklearn.dummy import DummyClassifier, DummyRegressor\n",
    "from sklearn.ensemble import RandomForestClassifier, RandomForestRegressor\n",
    "from sklearn.impute import SimpleImputer\n",
    "from sklearn.linear_model import LogisticRegression\n",
    "from sklearn.model_selection import (\n",
    "    GridSearchCV,\n",
    "    RandomizedSearchCV,\n",
    "    cross_val_score,\n",
    "    cross_validate,\n",
    "    train_test_split,\n",
    ")\n",
    "from sklearn.pipeline import Pipeline, make_pipeline\n",
    "from sklearn.preprocessing import OneHotEncoder, OrdinalEncoder, StandardScaler\n",
    "from sklearn.svm import SVC, SVR\n",
    "from sklearn.tree import DecisionTreeClassifier\n",
    "#from utils import *"
   ]
  },
  {
   "cell_type": "code",
   "execution_count": 6,
   "id": "550ffbe7-2ded-496f-960e-291fc67e70c6",
   "metadata": {},
   "outputs": [
    {
     "name": "stderr",
     "output_type": "stream",
     "text": [
      "/Users/qichao/opt/miniconda3/lib/python3.9/site-packages/IPython/core/interactiveshell.py:3444: DtypeWarning: Columns (17) have mixed types.Specify dtype option on import or set low_memory=False.\n",
      "  exec(code_obj, self.user_global_ns, self.user_ns)\n"
     ]
    },
    {
     "data": {
      "text/html": [
       "<div>\n",
       "<style scoped>\n",
       "    .dataframe tbody tr th:only-of-type {\n",
       "        vertical-align: middle;\n",
       "    }\n",
       "\n",
       "    .dataframe tbody tr th {\n",
       "        vertical-align: top;\n",
       "    }\n",
       "\n",
       "    .dataframe thead th {\n",
       "        text-align: right;\n",
       "    }\n",
       "</style>\n",
       "<table border=\"1\" class=\"dataframe\">\n",
       "  <thead>\n",
       "    <tr style=\"text-align: right;\">\n",
       "      <th></th>\n",
       "      <th>FactId</th>\n",
       "      <th>DateCompleted</th>\n",
       "      <th>Question_1</th>\n",
       "      <th>Response_Q1</th>\n",
       "      <th>Question_2</th>\n",
       "      <th>Response_Q2</th>\n",
       "      <th>Question_3</th>\n",
       "      <th>Response_Q3</th>\n",
       "      <th>Question_4</th>\n",
       "      <th>Response_Q4</th>\n",
       "      <th>...</th>\n",
       "      <th>Response_Q5</th>\n",
       "      <th>CustomerID</th>\n",
       "      <th>CourseName</th>\n",
       "      <th>Instructor</th>\n",
       "      <th>Program</th>\n",
       "      <th>Requirement</th>\n",
       "      <th>Level</th>\n",
       "      <th>VideoLenght</th>\n",
       "      <th>Price</th>\n",
       "      <th>SurveyType</th>\n",
       "    </tr>\n",
       "  </thead>\n",
       "  <tbody>\n",
       "    <tr>\n",
       "      <th>0</th>\n",
       "      <td>142055</td>\n",
       "      <td>2021-07-07 12:28:00.0000000</td>\n",
       "      <td>How likely is it that you would recommend this...</td>\n",
       "      <td>9</td>\n",
       "      <td>This course covered the topics and content tha...</td>\n",
       "      <td>Agree</td>\n",
       "      <td>The course materials were engaging, clear, and...</td>\n",
       "      <td>Agree</td>\n",
       "      <td>The instructor was effective in delivering the...</td>\n",
       "      <td>Agree</td>\n",
       "      <td>...</td>\n",
       "      <td>Did Not Respond</td>\n",
       "      <td>198151</td>\n",
       "      <td>Building a 3 Statement Financial Model</td>\n",
       "      <td>Tim Vipond</td>\n",
       "      <td>FMVA</td>\n",
       "      <td>Core</td>\n",
       "      <td>3</td>\n",
       "      <td>2-3 hrs</td>\n",
       "      <td>197.0</td>\n",
       "      <td>NewSurvey</td>\n",
       "    </tr>\n",
       "    <tr>\n",
       "      <th>1</th>\n",
       "      <td>142056</td>\n",
       "      <td>2021-08-12 14:42:00.0000000</td>\n",
       "      <td>How likely is it that you would recommend this...</td>\n",
       "      <td>9</td>\n",
       "      <td>This course covered the topics and content tha...</td>\n",
       "      <td>Agree</td>\n",
       "      <td>The course materials were engaging, clear, and...</td>\n",
       "      <td>Agree</td>\n",
       "      <td>The instructor was effective in delivering the...</td>\n",
       "      <td>Agree</td>\n",
       "      <td>...</td>\n",
       "      <td>Did Not Respond</td>\n",
       "      <td>152550</td>\n",
       "      <td>Building a 3 Statement Financial Model</td>\n",
       "      <td>Tim Vipond</td>\n",
       "      <td>FMVA</td>\n",
       "      <td>Core</td>\n",
       "      <td>3</td>\n",
       "      <td>2-3 hrs</td>\n",
       "      <td>197.0</td>\n",
       "      <td>NewSurvey</td>\n",
       "    </tr>\n",
       "    <tr>\n",
       "      <th>2</th>\n",
       "      <td>142057</td>\n",
       "      <td>2021-08-18 03:46:00.0000000</td>\n",
       "      <td>How likely is it that you would recommend this...</td>\n",
       "      <td>10</td>\n",
       "      <td>This course covered the topics and content tha...</td>\n",
       "      <td>Strongly Agree</td>\n",
       "      <td>The course materials were engaging, clear, and...</td>\n",
       "      <td>Strongly Agree</td>\n",
       "      <td>The instructor was effective in delivering the...</td>\n",
       "      <td>Strongly Agree</td>\n",
       "      <td>...</td>\n",
       "      <td>Did Not Respond</td>\n",
       "      <td>191851</td>\n",
       "      <td>Building a 3 Statement Financial Model</td>\n",
       "      <td>Tim Vipond</td>\n",
       "      <td>FMVA</td>\n",
       "      <td>Core</td>\n",
       "      <td>3</td>\n",
       "      <td>2-3 hrs</td>\n",
       "      <td>197.0</td>\n",
       "      <td>NewSurvey</td>\n",
       "    </tr>\n",
       "    <tr>\n",
       "      <th>3</th>\n",
       "      <td>142058</td>\n",
       "      <td>2021-08-22 16:34:00.0000000</td>\n",
       "      <td>How likely is it that you would recommend this...</td>\n",
       "      <td>10</td>\n",
       "      <td>This course covered the topics and content tha...</td>\n",
       "      <td>Strongly Agree</td>\n",
       "      <td>The course materials were engaging, clear, and...</td>\n",
       "      <td>Strongly Agree</td>\n",
       "      <td>The instructor was effective in delivering the...</td>\n",
       "      <td>Strongly Agree</td>\n",
       "      <td>...</td>\n",
       "      <td>Did Not Respond</td>\n",
       "      <td>263617</td>\n",
       "      <td>Building a 3 Statement Financial Model</td>\n",
       "      <td>Tim Vipond</td>\n",
       "      <td>FMVA</td>\n",
       "      <td>Core</td>\n",
       "      <td>3</td>\n",
       "      <td>2-3 hrs</td>\n",
       "      <td>197.0</td>\n",
       "      <td>NewSurvey</td>\n",
       "    </tr>\n",
       "    <tr>\n",
       "      <th>4</th>\n",
       "      <td>142059</td>\n",
       "      <td>2021-08-25 01:48:00.0000000</td>\n",
       "      <td>How likely is it that you would recommend this...</td>\n",
       "      <td>10</td>\n",
       "      <td>This course covered the topics and content tha...</td>\n",
       "      <td>Strongly Agree</td>\n",
       "      <td>The course materials were engaging, clear, and...</td>\n",
       "      <td>Strongly Agree</td>\n",
       "      <td>The instructor was effective in delivering the...</td>\n",
       "      <td>Strongly Agree</td>\n",
       "      <td>...</td>\n",
       "      <td>Did Not Respond</td>\n",
       "      <td>305095</td>\n",
       "      <td>Building a 3 Statement Financial Model</td>\n",
       "      <td>Tim Vipond</td>\n",
       "      <td>FMVA</td>\n",
       "      <td>Core</td>\n",
       "      <td>3</td>\n",
       "      <td>2-3 hrs</td>\n",
       "      <td>197.0</td>\n",
       "      <td>NewSurvey</td>\n",
       "    </tr>\n",
       "    <tr>\n",
       "      <th>...</th>\n",
       "      <td>...</td>\n",
       "      <td>...</td>\n",
       "      <td>...</td>\n",
       "      <td>...</td>\n",
       "      <td>...</td>\n",
       "      <td>...</td>\n",
       "      <td>...</td>\n",
       "      <td>...</td>\n",
       "      <td>...</td>\n",
       "      <td>...</td>\n",
       "      <td>...</td>\n",
       "      <td>...</td>\n",
       "      <td>...</td>\n",
       "      <td>...</td>\n",
       "      <td>...</td>\n",
       "      <td>...</td>\n",
       "      <td>...</td>\n",
       "      <td>...</td>\n",
       "      <td>...</td>\n",
       "      <td>...</td>\n",
       "      <td>...</td>\n",
       "    </tr>\n",
       "    <tr>\n",
       "      <th>619117</th>\n",
       "      <td>142050</td>\n",
       "      <td>2021-07-13 02:49:00.0000000</td>\n",
       "      <td>How likely is it that you would recommend this...</td>\n",
       "      <td>10</td>\n",
       "      <td>This course covered the topics and content tha...</td>\n",
       "      <td>Strongly Agree</td>\n",
       "      <td>The course materials were engaging, clear, and...</td>\n",
       "      <td>Strongly Agree</td>\n",
       "      <td>The instructor was effective in delivering the...</td>\n",
       "      <td>Strongly Agree</td>\n",
       "      <td>...</td>\n",
       "      <td>NaN</td>\n",
       "      <td>75513</td>\n",
       "      <td>Building a 3 Statement Financial Model</td>\n",
       "      <td>Tim Vipond</td>\n",
       "      <td>FMVA</td>\n",
       "      <td>Core</td>\n",
       "      <td>3</td>\n",
       "      <td>2-3 hrs</td>\n",
       "      <td>197.0</td>\n",
       "      <td>NewSurvey</td>\n",
       "    </tr>\n",
       "    <tr>\n",
       "      <th>619118</th>\n",
       "      <td>142051</td>\n",
       "      <td>2021-08-09 01:58:00.0000000</td>\n",
       "      <td>How likely is it that you would recommend this...</td>\n",
       "      <td>10</td>\n",
       "      <td>This course covered the topics and content tha...</td>\n",
       "      <td>Strongly Agree</td>\n",
       "      <td>The course materials were engaging, clear, and...</td>\n",
       "      <td>Strongly Agree</td>\n",
       "      <td>The instructor was effective in delivering the...</td>\n",
       "      <td>Strongly Agree</td>\n",
       "      <td>...</td>\n",
       "      <td>Did Not Respond</td>\n",
       "      <td>134180</td>\n",
       "      <td>Building a 3 Statement Financial Model</td>\n",
       "      <td>Tim Vipond</td>\n",
       "      <td>FMVA</td>\n",
       "      <td>Core</td>\n",
       "      <td>3</td>\n",
       "      <td>2-3 hrs</td>\n",
       "      <td>197.0</td>\n",
       "      <td>NewSurvey</td>\n",
       "    </tr>\n",
       "    <tr>\n",
       "      <th>619119</th>\n",
       "      <td>142052</td>\n",
       "      <td>2021-09-17 01:13:00.0000000</td>\n",
       "      <td>How likely is it that you would recommend this...</td>\n",
       "      <td>8</td>\n",
       "      <td>This course covered the topics and content tha...</td>\n",
       "      <td>Agree</td>\n",
       "      <td>The course materials were engaging, clear, and...</td>\n",
       "      <td>Agree</td>\n",
       "      <td>The instructor was effective in delivering the...</td>\n",
       "      <td>Agree</td>\n",
       "      <td>...</td>\n",
       "      <td>Did Not Respond</td>\n",
       "      <td>171726</td>\n",
       "      <td>Building a 3 Statement Financial Model</td>\n",
       "      <td>Tim Vipond</td>\n",
       "      <td>FMVA</td>\n",
       "      <td>Core</td>\n",
       "      <td>3</td>\n",
       "      <td>2-3 hrs</td>\n",
       "      <td>197.0</td>\n",
       "      <td>NewSurvey</td>\n",
       "    </tr>\n",
       "    <tr>\n",
       "      <th>619120</th>\n",
       "      <td>142053</td>\n",
       "      <td>2021-07-14 14:04:00.0000000</td>\n",
       "      <td>How likely is it that you would recommend this...</td>\n",
       "      <td>10</td>\n",
       "      <td>This course covered the topics and content tha...</td>\n",
       "      <td>Strongly Agree</td>\n",
       "      <td>The course materials were engaging, clear, and...</td>\n",
       "      <td>Strongly Agree</td>\n",
       "      <td>The instructor was effective in delivering the...</td>\n",
       "      <td>Strongly Agree</td>\n",
       "      <td>...</td>\n",
       "      <td>Ø²</td>\n",
       "      <td>192369</td>\n",
       "      <td>Building a 3 Statement Financial Model</td>\n",
       "      <td>Tim Vipond</td>\n",
       "      <td>FMVA</td>\n",
       "      <td>Core</td>\n",
       "      <td>3</td>\n",
       "      <td>2-3 hrs</td>\n",
       "      <td>197.0</td>\n",
       "      <td>NewSurvey</td>\n",
       "    </tr>\n",
       "    <tr>\n",
       "      <th>619121</th>\n",
       "      <td>142054</td>\n",
       "      <td>2021-07-30 13:55:00.0000000</td>\n",
       "      <td>How likely is it that you would recommend this...</td>\n",
       "      <td>10</td>\n",
       "      <td>This course covered the topics and content tha...</td>\n",
       "      <td>Strongly Agree</td>\n",
       "      <td>The course materials were engaging, clear, and...</td>\n",
       "      <td>Strongly Agree</td>\n",
       "      <td>The instructor was effective in delivering the...</td>\n",
       "      <td>Strongly Agree</td>\n",
       "      <td>...</td>\n",
       "      <td>.</td>\n",
       "      <td>236987</td>\n",
       "      <td>Building a 3 Statement Financial Model</td>\n",
       "      <td>Tim Vipond</td>\n",
       "      <td>FMVA</td>\n",
       "      <td>Core</td>\n",
       "      <td>3</td>\n",
       "      <td>2-3 hrs</td>\n",
       "      <td>197.0</td>\n",
       "      <td>NewSurvey</td>\n",
       "    </tr>\n",
       "  </tbody>\n",
       "</table>\n",
       "<p>619122 rows × 21 columns</p>\n",
       "</div>"
      ],
      "text/plain": [
       "        FactId                DateCompleted  \\\n",
       "0       142055  2021-07-07 12:28:00.0000000   \n",
       "1       142056  2021-08-12 14:42:00.0000000   \n",
       "2       142057  2021-08-18 03:46:00.0000000   \n",
       "3       142058  2021-08-22 16:34:00.0000000   \n",
       "4       142059  2021-08-25 01:48:00.0000000   \n",
       "...        ...                          ...   \n",
       "619117  142050  2021-07-13 02:49:00.0000000   \n",
       "619118  142051  2021-08-09 01:58:00.0000000   \n",
       "619119  142052  2021-09-17 01:13:00.0000000   \n",
       "619120  142053  2021-07-14 14:04:00.0000000   \n",
       "619121  142054  2021-07-30 13:55:00.0000000   \n",
       "\n",
       "                                               Question_1  Response_Q1  \\\n",
       "0       How likely is it that you would recommend this...            9   \n",
       "1       How likely is it that you would recommend this...            9   \n",
       "2       How likely is it that you would recommend this...           10   \n",
       "3       How likely is it that you would recommend this...           10   \n",
       "4       How likely is it that you would recommend this...           10   \n",
       "...                                                   ...          ...   \n",
       "619117  How likely is it that you would recommend this...           10   \n",
       "619118  How likely is it that you would recommend this...           10   \n",
       "619119  How likely is it that you would recommend this...            8   \n",
       "619120  How likely is it that you would recommend this...           10   \n",
       "619121  How likely is it that you would recommend this...           10   \n",
       "\n",
       "                                               Question_2     Response_Q2  \\\n",
       "0       This course covered the topics and content tha...           Agree   \n",
       "1       This course covered the topics and content tha...           Agree   \n",
       "2       This course covered the topics and content tha...  Strongly Agree   \n",
       "3       This course covered the topics and content tha...  Strongly Agree   \n",
       "4       This course covered the topics and content tha...  Strongly Agree   \n",
       "...                                                   ...             ...   \n",
       "619117  This course covered the topics and content tha...  Strongly Agree   \n",
       "619118  This course covered the topics and content tha...  Strongly Agree   \n",
       "619119  This course covered the topics and content tha...           Agree   \n",
       "619120  This course covered the topics and content tha...  Strongly Agree   \n",
       "619121  This course covered the topics and content tha...  Strongly Agree   \n",
       "\n",
       "                                               Question_3     Response_Q3  \\\n",
       "0       The course materials were engaging, clear, and...           Agree   \n",
       "1       The course materials were engaging, clear, and...           Agree   \n",
       "2       The course materials were engaging, clear, and...  Strongly Agree   \n",
       "3       The course materials were engaging, clear, and...  Strongly Agree   \n",
       "4       The course materials were engaging, clear, and...  Strongly Agree   \n",
       "...                                                   ...             ...   \n",
       "619117  The course materials were engaging, clear, and...  Strongly Agree   \n",
       "619118  The course materials were engaging, clear, and...  Strongly Agree   \n",
       "619119  The course materials were engaging, clear, and...           Agree   \n",
       "619120  The course materials were engaging, clear, and...  Strongly Agree   \n",
       "619121  The course materials were engaging, clear, and...  Strongly Agree   \n",
       "\n",
       "                                               Question_4     Response_Q4  \\\n",
       "0       The instructor was effective in delivering the...           Agree   \n",
       "1       The instructor was effective in delivering the...           Agree   \n",
       "2       The instructor was effective in delivering the...  Strongly Agree   \n",
       "3       The instructor was effective in delivering the...  Strongly Agree   \n",
       "4       The instructor was effective in delivering the...  Strongly Agree   \n",
       "...                                                   ...             ...   \n",
       "619117  The instructor was effective in delivering the...  Strongly Agree   \n",
       "619118  The instructor was effective in delivering the...  Strongly Agree   \n",
       "619119  The instructor was effective in delivering the...           Agree   \n",
       "619120  The instructor was effective in delivering the...  Strongly Agree   \n",
       "619121  The instructor was effective in delivering the...  Strongly Agree   \n",
       "\n",
       "        ...      Response_Q5 CustomerID  \\\n",
       "0       ...  Did Not Respond     198151   \n",
       "1       ...  Did Not Respond     152550   \n",
       "2       ...  Did Not Respond     191851   \n",
       "3       ...  Did Not Respond     263617   \n",
       "4       ...  Did Not Respond     305095   \n",
       "...     ...              ...        ...   \n",
       "619117  ...              NaN      75513   \n",
       "619118  ...  Did Not Respond     134180   \n",
       "619119  ...  Did Not Respond     171726   \n",
       "619120  ...               Ø²     192369   \n",
       "619121  ...                .     236987   \n",
       "\n",
       "                                    CourseName  Instructor Program  \\\n",
       "0       Building a 3 Statement Financial Model  Tim Vipond    FMVA   \n",
       "1       Building a 3 Statement Financial Model  Tim Vipond    FMVA   \n",
       "2       Building a 3 Statement Financial Model  Tim Vipond    FMVA   \n",
       "3       Building a 3 Statement Financial Model  Tim Vipond    FMVA   \n",
       "4       Building a 3 Statement Financial Model  Tim Vipond    FMVA   \n",
       "...                                        ...         ...     ...   \n",
       "619117  Building a 3 Statement Financial Model  Tim Vipond    FMVA   \n",
       "619118  Building a 3 Statement Financial Model  Tim Vipond    FMVA   \n",
       "619119  Building a 3 Statement Financial Model  Tim Vipond    FMVA   \n",
       "619120  Building a 3 Statement Financial Model  Tim Vipond    FMVA   \n",
       "619121  Building a 3 Statement Financial Model  Tim Vipond    FMVA   \n",
       "\n",
       "       Requirement Level VideoLenght  Price  SurveyType  \n",
       "0             Core     3     2-3 hrs  197.0   NewSurvey  \n",
       "1             Core     3     2-3 hrs  197.0   NewSurvey  \n",
       "2             Core     3     2-3 hrs  197.0   NewSurvey  \n",
       "3             Core     3     2-3 hrs  197.0   NewSurvey  \n",
       "4             Core     3     2-3 hrs  197.0   NewSurvey  \n",
       "...            ...   ...         ...    ...         ...  \n",
       "619117        Core     3     2-3 hrs  197.0   NewSurvey  \n",
       "619118        Core     3     2-3 hrs  197.0   NewSurvey  \n",
       "619119        Core     3     2-3 hrs  197.0   NewSurvey  \n",
       "619120        Core     3     2-3 hrs  197.0   NewSurvey  \n",
       "619121        Core     3     2-3 hrs  197.0   NewSurvey  \n",
       "\n",
       "[619122 rows x 21 columns]"
      ]
     },
     "execution_count": 6,
     "metadata": {},
     "output_type": "execute_result"
    }
   ],
   "source": [
    "survey_df = pd.read_csv('EndOfCourseSurvey.csv')\n",
    "survey_df"
   ]
  },
  {
   "cell_type": "markdown",
   "id": "339e9ed9-0913-46d6-9c57-9cb70c9279b1",
   "metadata": {},
   "source": [
    "## Clean Data"
   ]
  },
  {
   "cell_type": "code",
   "execution_count": 71,
   "id": "31fd7a5b-a542-44bf-8dee-65fb501f8143",
   "metadata": {},
   "outputs": [
    {
     "data": {
      "text/plain": [
       "array([3, 4, 5, 1, 2, '2', '1', '4', '3', 'Archive', nan, '5'],\n",
       "      dtype=object)"
      ]
     },
     "execution_count": 71,
     "metadata": {},
     "output_type": "execute_result"
    }
   ],
   "source": [
    "survey_df['Level'].unique()"
   ]
  },
  {
   "cell_type": "code",
   "execution_count": 72,
   "id": "5993e338-449d-4ad5-afbe-39055457da8a",
   "metadata": {},
   "outputs": [
    {
     "data": {
      "text/plain": [
       "array([3, 4, 5, 1, 2])"
      ]
     },
     "execution_count": 72,
     "metadata": {},
     "output_type": "execute_result"
    }
   ],
   "source": [
    "survey_df = survey_df[survey_df['Level'] != 'Archive'].dropna()\n",
    "survey_df['Level'] = survey_df['Level'].apply(np.int64)\n",
    "survey_df['Level'].unique()"
   ]
  },
  {
   "cell_type": "code",
   "execution_count": null,
   "id": "893df5e0-439d-4821-84f7-976b330cc45b",
   "metadata": {},
   "outputs": [],
   "source": []
  },
  {
   "cell_type": "code",
   "execution_count": 101,
   "id": "24b3a93f-1ff1-4f15-995d-1d6bd727c7e1",
   "metadata": {},
   "outputs": [
    {
     "data": {
      "text/plain": [
       "array(['Agree', 'Strongly Agree', 'Neutral', 'Disagree',\n",
       "       'Strongly Disagree'], dtype=object)"
      ]
     },
     "execution_count": 101,
     "metadata": {},
     "output_type": "execute_result"
    }
   ],
   "source": [
    "survey_df = survey_df[survey_df['Response_Q2'] != 'Did Not Respond'].dropna()\n",
    "survey_df[\"Response_Q2\"].unique()"
   ]
  },
  {
   "cell_type": "code",
   "execution_count": 102,
   "id": "c4bddcc1-81da-4072-941f-f75d8cdb579c",
   "metadata": {},
   "outputs": [
    {
     "data": {
      "text/plain": [
       "array(['Agree', 'Strongly Agree', 'Neutral', 'Disagree',\n",
       "       'Strongly Disagree'], dtype=object)"
      ]
     },
     "execution_count": 102,
     "metadata": {},
     "output_type": "execute_result"
    }
   ],
   "source": [
    "survey_df = survey_df[survey_df['Response_Q3'] != 'Did Not Respond'].dropna()\n",
    "survey_df[\"Response_Q3\"].unique()"
   ]
  },
  {
   "cell_type": "code",
   "execution_count": 103,
   "id": "798ee76a-5dab-4332-9c9f-419dffee6b77",
   "metadata": {},
   "outputs": [
    {
     "data": {
      "text/plain": [
       "array(['Agree', 'Strongly Agree', 'Neutral', 'Disagree',\n",
       "       'Strongly Disagree'], dtype=object)"
      ]
     },
     "execution_count": 103,
     "metadata": {},
     "output_type": "execute_result"
    }
   ],
   "source": [
    "survey_df = survey_df[survey_df['Response_Q4'] != 'Did Not Respond'].dropna()\n",
    "survey_df[\"Response_Q4\"].unique()"
   ]
  },
  {
   "cell_type": "code",
   "execution_count": 104,
   "id": "f2e451d5-edb1-4e54-8b08-af285a4e6a30",
   "metadata": {},
   "outputs": [
    {
     "data": {
      "text/plain": [
       "array([198151, 152550, 191851, ..., 173145, 238281, 202949])"
      ]
     },
     "execution_count": 104,
     "metadata": {},
     "output_type": "execute_result"
    }
   ],
   "source": [
    "survey_df[\"CustomerID\"].unique()"
   ]
  },
  {
   "cell_type": "code",
   "execution_count": 105,
   "id": "af84fda9-9532-4816-a4f7-ebff48382da9",
   "metadata": {},
   "outputs": [
    {
     "data": {
      "text/plain": [
       "array([197., 147.,  97.,   0.,  99.])"
      ]
     },
     "execution_count": 105,
     "metadata": {},
     "output_type": "execute_result"
    }
   ],
   "source": [
    "survey_df[\"Price\"].unique()"
   ]
  },
  {
   "cell_type": "code",
   "execution_count": 172,
   "id": "b31bb9e2-5ac6-44e6-8a6d-52be66afdcf1",
   "metadata": {},
   "outputs": [
    {
     "data": {
      "text/plain": [
       "array(['FMVA', 'CBCA', 'BIDA', 'CMSA', 'CRE', 'ESG', 'BIDA, FMVA',\n",
       "       'Cryptocurrency', 'FPWMA', 'ML', 'ALL PROGRAMS'], dtype=object)"
      ]
     },
     "execution_count": 172,
     "metadata": {},
     "output_type": "execute_result"
    }
   ],
   "source": [
    "survey_df[\"Program\"].unique()"
   ]
  },
  {
   "cell_type": "code",
   "execution_count": 107,
   "id": "6317820b-9b3f-4a98-a823-081c0c00666e",
   "metadata": {},
   "outputs": [
    {
     "data": {
      "text/plain": [
       "array(['Core', 'Elective', 'Prep', 'Case Study'], dtype=object)"
      ]
     },
     "execution_count": 107,
     "metadata": {},
     "output_type": "execute_result"
    }
   ],
   "source": [
    "survey_df[\"Requirement\"].unique()"
   ]
  },
  {
   "cell_type": "code",
   "execution_count": 122,
   "id": "d008a451-2f24-4df5-bb31-6613f55af801",
   "metadata": {},
   "outputs": [
    {
     "data": {
      "text/plain": [
       "array(['2-3 hrs', 'Over 3 hrs', 'Under 1 hr', '1-2 hrs'], dtype=object)"
      ]
     },
     "execution_count": 122,
     "metadata": {},
     "output_type": "execute_result"
    }
   ],
   "source": [
    "survey_df = survey_df[survey_df['VideoLenght'] != 'Archive'].dropna()\n",
    "survey_df['VideoLenght'].unique()"
   ]
  },
  {
   "cell_type": "code",
   "execution_count": null,
   "id": "0647a2ef-4818-4786-9185-6a8134e2c1cc",
   "metadata": {},
   "outputs": [],
   "source": []
  },
  {
   "cell_type": "code",
   "execution_count": 123,
   "id": "3d9dd7a6-94b9-44bc-af1c-766c23f8c04c",
   "metadata": {},
   "outputs": [],
   "source": [
    "survey_df_clean = survey_df[[\"Response_Q1\", \"Response_Q2\", \"Response_Q3\", \"Response_Q4\", \"CustomerID\", \"Program\", \"Requirement\", \"Level\", \"VideoLenght\", \"Price\"]]"
   ]
  },
  {
   "cell_type": "code",
   "execution_count": 356,
   "id": "1a86b80f-57d6-46f8-9648-5bd9c80f9683",
   "metadata": {},
   "outputs": [
    {
     "data": {
      "text/html": [
       "<div>\n",
       "<style scoped>\n",
       "    .dataframe tbody tr th:only-of-type {\n",
       "        vertical-align: middle;\n",
       "    }\n",
       "\n",
       "    .dataframe tbody tr th {\n",
       "        vertical-align: top;\n",
       "    }\n",
       "\n",
       "    .dataframe thead th {\n",
       "        text-align: right;\n",
       "    }\n",
       "</style>\n",
       "<table border=\"1\" class=\"dataframe\">\n",
       "  <thead>\n",
       "    <tr style=\"text-align: right;\">\n",
       "      <th></th>\n",
       "      <th>Response_Q1</th>\n",
       "      <th>Level</th>\n",
       "      <th>Price</th>\n",
       "    </tr>\n",
       "    <tr>\n",
       "      <th>CustomerID</th>\n",
       "      <th></th>\n",
       "      <th></th>\n",
       "      <th></th>\n",
       "    </tr>\n",
       "  </thead>\n",
       "  <tbody>\n",
       "    <tr>\n",
       "      <th>69810</th>\n",
       "      <td>8.000000</td>\n",
       "      <td>2.000000</td>\n",
       "      <td>0.000000</td>\n",
       "    </tr>\n",
       "    <tr>\n",
       "      <th>69811</th>\n",
       "      <td>9.666667</td>\n",
       "      <td>1.666667</td>\n",
       "      <td>0.000000</td>\n",
       "    </tr>\n",
       "    <tr>\n",
       "      <th>69812</th>\n",
       "      <td>10.000000</td>\n",
       "      <td>2.000000</td>\n",
       "      <td>0.000000</td>\n",
       "    </tr>\n",
       "    <tr>\n",
       "      <th>69813</th>\n",
       "      <td>10.000000</td>\n",
       "      <td>2.000000</td>\n",
       "      <td>0.000000</td>\n",
       "    </tr>\n",
       "    <tr>\n",
       "      <th>69814</th>\n",
       "      <td>5.500000</td>\n",
       "      <td>2.000000</td>\n",
       "      <td>0.000000</td>\n",
       "    </tr>\n",
       "    <tr>\n",
       "      <th>...</th>\n",
       "      <td>...</td>\n",
       "      <td>...</td>\n",
       "      <td>...</td>\n",
       "    </tr>\n",
       "    <tr>\n",
       "      <th>307032</th>\n",
       "      <td>7.500000</td>\n",
       "      <td>2.000000</td>\n",
       "      <td>0.000000</td>\n",
       "    </tr>\n",
       "    <tr>\n",
       "      <th>307033</th>\n",
       "      <td>9.727273</td>\n",
       "      <td>2.545455</td>\n",
       "      <td>88.727273</td>\n",
       "    </tr>\n",
       "    <tr>\n",
       "      <th>307034</th>\n",
       "      <td>10.000000</td>\n",
       "      <td>2.083333</td>\n",
       "      <td>40.666667</td>\n",
       "    </tr>\n",
       "    <tr>\n",
       "      <th>307035</th>\n",
       "      <td>9.500000</td>\n",
       "      <td>2.000000</td>\n",
       "      <td>0.000000</td>\n",
       "    </tr>\n",
       "    <tr>\n",
       "      <th>307036</th>\n",
       "      <td>7.000000</td>\n",
       "      <td>1.666667</td>\n",
       "      <td>0.000000</td>\n",
       "    </tr>\n",
       "  </tbody>\n",
       "</table>\n",
       "<p>155220 rows × 3 columns</p>\n",
       "</div>"
      ],
      "text/plain": [
       "            Response_Q1     Level      Price\n",
       "CustomerID                                  \n",
       "69810          8.000000  2.000000   0.000000\n",
       "69811          9.666667  1.666667   0.000000\n",
       "69812         10.000000  2.000000   0.000000\n",
       "69813         10.000000  2.000000   0.000000\n",
       "69814          5.500000  2.000000   0.000000\n",
       "...                 ...       ...        ...\n",
       "307032         7.500000  2.000000   0.000000\n",
       "307033         9.727273  2.545455  88.727273\n",
       "307034        10.000000  2.083333  40.666667\n",
       "307035         9.500000  2.000000   0.000000\n",
       "307036         7.000000  1.666667   0.000000\n",
       "\n",
       "[155220 rows x 3 columns]"
      ]
     },
     "execution_count": 356,
     "metadata": {},
     "output_type": "execute_result"
    }
   ],
   "source": [
    "Customer_df = survey_df_clean.groupby(\"CustomerID\").mean()\n",
    "Customer_df"
   ]
  },
  {
   "cell_type": "code",
   "execution_count": 248,
   "id": "dbb0a4e2-dae7-4ec2-9065-29384c07761e",
   "metadata": {},
   "outputs": [
    {
     "data": {
      "text/plain": [
       "<AxesSubplot:ylabel='Frequency'>"
      ]
     },
     "execution_count": 248,
     "metadata": {},
     "output_type": "execute_result"
    },
    {
     "data": {
      "image/png": "[encoded data removed]",
      "text/plain": [
       "<Figure size 432x288 with 1 Axes>"
      ]
     },
     "metadata": {
      "needs_background": "light"
     },
     "output_type": "display_data"
    }
   ],
   "source": [
    "# average response distribution of all customers\n",
    "Customer_df = survey_df_clean.groupby(\"CustomerID\").mean().sort_values(by = 'Response_Q1')[[\"Response_Q1\"]]\n",
    "Customer_df.plot.hist(bins=10)\n"
   ]
  },
  {
   "cell_type": "code",
   "execution_count": 252,
   "id": "d945ae20-ceec-4804-b1d2-b579a83bbdd9",
   "metadata": {},
   "outputs": [
    {
     "data": {
      "text/plain": [
       "<AxesSubplot:ylabel='Frequency'>"
      ]
     },
     "execution_count": 252,
     "metadata": {},
     "output_type": "execute_result"
    },
    {
     "data": {
      "image/png": "[encoded data removed]",
      "text/plain": [
       "<Figure size 432x288 with 1 Axes>"
      ]
     },
     "metadata": {
      "needs_background": "light"
     },
     "output_type": "display_data"
    }
   ],
   "source": [
    "# average response distribution of customers\n",
    "Customer_df[Customer_df[\"Response_Q1\"] <= 5].plot.hist(bins=5)"
   ]
  },
  {
   "cell_type": "code",
   "execution_count": 357,
   "id": "55ac7769-1ead-4447-ae3d-6d826eaeb500",
   "metadata": {},
   "outputs": [
    {
     "data": {
      "text/html": [
       "<div>\n",
       "<style scoped>\n",
       "    .dataframe tbody tr th:only-of-type {\n",
       "        vertical-align: middle;\n",
       "    }\n",
       "\n",
       "    .dataframe tbody tr th {\n",
       "        vertical-align: top;\n",
       "    }\n",
       "\n",
       "    .dataframe thead th {\n",
       "        text-align: right;\n",
       "    }\n",
       "</style>\n",
       "<table border=\"1\" class=\"dataframe\">\n",
       "  <thead>\n",
       "    <tr style=\"text-align: right;\">\n",
       "      <th></th>\n",
       "      <th>Response_Q1</th>\n",
       "      <th>Level</th>\n",
       "      <th>Price</th>\n",
       "    </tr>\n",
       "    <tr>\n",
       "      <th>CustomerID</th>\n",
       "      <th></th>\n",
       "      <th></th>\n",
       "      <th></th>\n",
       "    </tr>\n",
       "  </thead>\n",
       "  <tbody>\n",
       "    <tr>\n",
       "      <th>69948</th>\n",
       "      <td>5.00</td>\n",
       "      <td>2.25</td>\n",
       "      <td>24.25</td>\n",
       "    </tr>\n",
       "    <tr>\n",
       "      <th>69982</th>\n",
       "      <td>1.00</td>\n",
       "      <td>2.00</td>\n",
       "      <td>0.00</td>\n",
       "    </tr>\n",
       "    <tr>\n",
       "      <th>69990</th>\n",
       "      <td>1.00</td>\n",
       "      <td>1.00</td>\n",
       "      <td>0.00</td>\n",
       "    </tr>\n",
       "    <tr>\n",
       "      <th>70032</th>\n",
       "      <td>1.00</td>\n",
       "      <td>1.00</td>\n",
       "      <td>0.00</td>\n",
       "    </tr>\n",
       "    <tr>\n",
       "      <th>70044</th>\n",
       "      <td>4.00</td>\n",
       "      <td>2.00</td>\n",
       "      <td>0.00</td>\n",
       "    </tr>\n",
       "    <tr>\n",
       "      <th>...</th>\n",
       "      <td>...</td>\n",
       "      <td>...</td>\n",
       "      <td>...</td>\n",
       "    </tr>\n",
       "    <tr>\n",
       "      <th>306712</th>\n",
       "      <td>4.00</td>\n",
       "      <td>2.00</td>\n",
       "      <td>0.00</td>\n",
       "    </tr>\n",
       "    <tr>\n",
       "      <th>306769</th>\n",
       "      <td>5.00</td>\n",
       "      <td>2.00</td>\n",
       "      <td>0.00</td>\n",
       "    </tr>\n",
       "    <tr>\n",
       "      <th>306897</th>\n",
       "      <td>4.75</td>\n",
       "      <td>2.75</td>\n",
       "      <td>134.50</td>\n",
       "    </tr>\n",
       "    <tr>\n",
       "      <th>306951</th>\n",
       "      <td>5.00</td>\n",
       "      <td>1.00</td>\n",
       "      <td>0.00</td>\n",
       "    </tr>\n",
       "    <tr>\n",
       "      <th>306999</th>\n",
       "      <td>5.00</td>\n",
       "      <td>3.00</td>\n",
       "      <td>147.00</td>\n",
       "    </tr>\n",
       "  </tbody>\n",
       "</table>\n",
       "<p>4497 rows × 3 columns</p>\n",
       "</div>"
      ],
      "text/plain": [
       "            Response_Q1  Level   Price\n",
       "CustomerID                            \n",
       "69948              5.00   2.25   24.25\n",
       "69982              1.00   2.00    0.00\n",
       "69990              1.00   1.00    0.00\n",
       "70032              1.00   1.00    0.00\n",
       "70044              4.00   2.00    0.00\n",
       "...                 ...    ...     ...\n",
       "306712             4.00   2.00    0.00\n",
       "306769             5.00   2.00    0.00\n",
       "306897             4.75   2.75  134.50\n",
       "306951             5.00   1.00    0.00\n",
       "306999             5.00   3.00  147.00\n",
       "\n",
       "[4497 rows x 3 columns]"
      ]
     },
     "execution_count": 357,
     "metadata": {},
     "output_type": "execute_result"
    }
   ],
   "source": [
    "Customer_df[Customer_df[\"Response_Q1\"] <= 5]"
   ]
  },
  {
   "cell_type": "code",
   "execution_count": 253,
   "id": "f4a9cb4e-c261-4f1a-95d4-00e08876a4fd",
   "metadata": {},
   "outputs": [
    {
     "name": "stderr",
     "output_type": "stream",
     "text": [
      "/var/folders/3z/vln54yld7pl4fbx7dy7pfg580000gp/T/ipykernel_76983/424816136.py:2: UserWarning: Boolean Series key will be reindexed to match DataFrame index.\n",
      "  Customer_df[survey_df_clean.groupby(\"CustomerID\").count().sort_values(by = 'Response_Q1')['Response_Q1'] > 5].plot.hist(bins=10)\n"
     ]
    },
    {
     "data": {
      "text/plain": [
       "<AxesSubplot:ylabel='Frequency'>"
      ]
     },
     "execution_count": 253,
     "metadata": {},
     "output_type": "execute_result"
    },
    {
     "data": {
      "image/png": "[encoded data removed]",
      "text/plain": [
       "<Figure size 432x288 with 1 Axes>"
      ]
     },
     "metadata": {
      "needs_background": "light"
     },
     "output_type": "display_data"
    }
   ],
   "source": [
    "# average response distribution of customers who have taken more than 4 courses\n",
    "Customer_df[survey_df_clean.groupby(\"CustomerID\").count().sort_values(by = 'Response_Q1')['Response_Q1'] > 5].plot.hist(bins=10)"
   ]
  },
  {
   "cell_type": "code",
   "execution_count": 256,
   "id": "75500e83-ec16-4653-ac7f-25b3d676db25",
   "metadata": {},
   "outputs": [
    {
     "name": "stderr",
     "output_type": "stream",
     "text": [
      "/var/folders/3z/vln54yld7pl4fbx7dy7pfg580000gp/T/ipykernel_76983/75418871.py:2: UserWarning: Boolean Series key will be reindexed to match DataFrame index.\n",
      "  Customer_df[Customer_df[\"Response_Q1\"] <= 5][survey_df_clean.groupby(\"CustomerID\").count().sort_values(by = 'Response_Q1')['Response_Q1'] > 5].plot.hist(bins=10)\n"
     ]
    },
    {
     "data": {
      "text/plain": [
       "<AxesSubplot:ylabel='Frequency'>"
      ]
     },
     "execution_count": 256,
     "metadata": {},
     "output_type": "execute_result"
    },
    {
     "data": {
      "image/png": "[encoded data removed]",
      "text/plain": [
       "<Figure size 432x288 with 1 Axes>"
      ]
     },
     "metadata": {
      "needs_background": "light"
     },
     "output_type": "display_data"
    }
   ],
   "source": [
    "# average response distribution of customers who have taken more than 4 courses\n",
    "Customer_df[Customer_df[\"Response_Q1\"] <= 5][survey_df_clean.groupby(\"CustomerID\").count().sort_values(by = 'Response_Q1')['Response_Q1'] > 5].plot.hist(bins=10)"
   ]
  },
  {
   "cell_type": "markdown",
   "id": "b291c0f2-1883-498a-9318-57fdf5bd8369",
   "metadata": {},
   "source": [
    "## Train/Test Split "
   ]
  },
  {
   "cell_type": "code",
   "execution_count": 125,
   "id": "592aa7da-6b3c-4174-816a-b1691cc60cdc",
   "metadata": {},
   "outputs": [
    {
     "data": {
      "text/html": [
       "<div>\n",
       "<style scoped>\n",
       "    .dataframe tbody tr th:only-of-type {\n",
       "        vertical-align: middle;\n",
       "    }\n",
       "\n",
       "    .dataframe tbody tr th {\n",
       "        vertical-align: top;\n",
       "    }\n",
       "\n",
       "    .dataframe thead th {\n",
       "        text-align: right;\n",
       "    }\n",
       "</style>\n",
       "<table border=\"1\" class=\"dataframe\">\n",
       "  <thead>\n",
       "    <tr style=\"text-align: right;\">\n",
       "      <th></th>\n",
       "      <th>Response_Q1</th>\n",
       "      <th>Response_Q2</th>\n",
       "      <th>Response_Q3</th>\n",
       "      <th>Response_Q4</th>\n",
       "      <th>CustomerID</th>\n",
       "      <th>Program</th>\n",
       "      <th>Requirement</th>\n",
       "      <th>Level</th>\n",
       "      <th>VideoLenght</th>\n",
       "      <th>Price</th>\n",
       "    </tr>\n",
       "  </thead>\n",
       "  <tbody>\n",
       "    <tr>\n",
       "      <th>222919</th>\n",
       "      <td>1</td>\n",
       "      <td>Strongly Disagree</td>\n",
       "      <td>Strongly Disagree</td>\n",
       "      <td>Strongly Disagree</td>\n",
       "      <td>268592</td>\n",
       "      <td>CMSA</td>\n",
       "      <td>Elective</td>\n",
       "      <td>4</td>\n",
       "      <td>Over 3 hrs</td>\n",
       "      <td>147.0</td>\n",
       "    </tr>\n",
       "    <tr>\n",
       "      <th>92686</th>\n",
       "      <td>8</td>\n",
       "      <td>Neutral</td>\n",
       "      <td>Agree</td>\n",
       "      <td>Agree</td>\n",
       "      <td>101246</td>\n",
       "      <td>FMVA</td>\n",
       "      <td>Prep</td>\n",
       "      <td>2</td>\n",
       "      <td>1-2 hrs</td>\n",
       "      <td>0.0</td>\n",
       "    </tr>\n",
       "    <tr>\n",
       "      <th>363329</th>\n",
       "      <td>10</td>\n",
       "      <td>Strongly Agree</td>\n",
       "      <td>Strongly Agree</td>\n",
       "      <td>Strongly Agree</td>\n",
       "      <td>122642</td>\n",
       "      <td>FMVA</td>\n",
       "      <td>Elective</td>\n",
       "      <td>2</td>\n",
       "      <td>2-3 hrs</td>\n",
       "      <td>97.0</td>\n",
       "    </tr>\n",
       "    <tr>\n",
       "      <th>401825</th>\n",
       "      <td>10</td>\n",
       "      <td>Strongly Agree</td>\n",
       "      <td>Strongly Agree</td>\n",
       "      <td>Strongly Agree</td>\n",
       "      <td>172724</td>\n",
       "      <td>FMVA</td>\n",
       "      <td>Prep</td>\n",
       "      <td>2</td>\n",
       "      <td>Under 1 hr</td>\n",
       "      <td>0.0</td>\n",
       "    </tr>\n",
       "    <tr>\n",
       "      <th>297372</th>\n",
       "      <td>8</td>\n",
       "      <td>Neutral</td>\n",
       "      <td>Agree</td>\n",
       "      <td>Agree</td>\n",
       "      <td>186949</td>\n",
       "      <td>ESG</td>\n",
       "      <td>Core</td>\n",
       "      <td>1</td>\n",
       "      <td>Under 1 hr</td>\n",
       "      <td>0.0</td>\n",
       "    </tr>\n",
       "  </tbody>\n",
       "</table>\n",
       "</div>"
      ],
      "text/plain": [
       "        Response_Q1        Response_Q2        Response_Q3        Response_Q4  \\\n",
       "222919            1  Strongly Disagree  Strongly Disagree  Strongly Disagree   \n",
       "92686             8            Neutral              Agree              Agree   \n",
       "363329           10     Strongly Agree     Strongly Agree     Strongly Agree   \n",
       "401825           10     Strongly Agree     Strongly Agree     Strongly Agree   \n",
       "297372            8            Neutral              Agree              Agree   \n",
       "\n",
       "        CustomerID Program Requirement  Level VideoLenght  Price  \n",
       "222919      268592    CMSA    Elective      4  Over 3 hrs  147.0  \n",
       "92686       101246    FMVA        Prep      2     1-2 hrs    0.0  \n",
       "363329      122642    FMVA    Elective      2     2-3 hrs   97.0  \n",
       "401825      172724    FMVA        Prep      2  Under 1 hr    0.0  \n",
       "297372      186949     ESG        Core      1  Under 1 hr    0.0  "
      ]
     },
     "execution_count": 125,
     "metadata": {},
     "output_type": "execute_result"
    }
   ],
   "source": [
    "from sklearn.model_selection import (\n",
    "    GridSearchCV,\n",
    "    cross_val_score,\n",
    "    cross_validate,\n",
    "    train_test_split,\n",
    ")\n",
    "\n",
    "train_df, test_df = train_test_split(survey_df_clean, test_size=0.10, random_state=123)\n",
    "train_df.head()"
   ]
  },
  {
   "cell_type": "markdown",
   "id": "33fd4e3f-32ff-40ee-ad19-06bd8626d931",
   "metadata": {},
   "source": [
    "## Let's separate `X` and `y`"
   ]
  },
  {
   "cell_type": "code",
   "execution_count": 126,
   "id": "a6ceb43f-af62-41af-8293-6d834771d41d",
   "metadata": {},
   "outputs": [
    {
     "data": {
      "text/plain": [
       "(545100, 10)"
      ]
     },
     "execution_count": 126,
     "metadata": {},
     "output_type": "execute_result"
    }
   ],
   "source": [
    "train_df.shape"
   ]
  },
  {
   "cell_type": "code",
   "execution_count": 127,
   "id": "e947affe-59e1-44f1-af28-a9e4d397fb71",
   "metadata": {},
   "outputs": [],
   "source": [
    "X_train = train_df.drop(columns=[\"Response_Q1\"])\n",
    "y_train = train_df[\"Response_Q1\"]\n",
    "\n",
    "X_test = test_df.drop(columns=[\"Response_Q1\"])\n",
    "y_test = test_df[\"Response_Q1\"]"
   ]
  },
  {
   "cell_type": "markdown",
   "id": "a01248fe-2511-475e-9aef-2d512d6a317e",
   "metadata": {},
   "source": [
    "## EDA"
   ]
  },
  {
   "cell_type": "code",
   "execution_count": 128,
   "id": "9c77fdea-f22c-41bb-8223-ef8062cd4d1b",
   "metadata": {},
   "outputs": [
    {
     "data": {
      "text/html": [
       "<div>\n",
       "<style scoped>\n",
       "    .dataframe tbody tr th:only-of-type {\n",
       "        vertical-align: middle;\n",
       "    }\n",
       "\n",
       "    .dataframe tbody tr th {\n",
       "        vertical-align: top;\n",
       "    }\n",
       "\n",
       "    .dataframe thead th {\n",
       "        text-align: right;\n",
       "    }\n",
       "</style>\n",
       "<table border=\"1\" class=\"dataframe\">\n",
       "  <thead>\n",
       "    <tr style=\"text-align: right;\">\n",
       "      <th></th>\n",
       "      <th>Response_Q1</th>\n",
       "      <th>CustomerID</th>\n",
       "      <th>Level</th>\n",
       "      <th>Price</th>\n",
       "    </tr>\n",
       "  </thead>\n",
       "  <tbody>\n",
       "    <tr>\n",
       "      <th>count</th>\n",
       "      <td>545100.000000</td>\n",
       "      <td>545100.000000</td>\n",
       "      <td>545100.000000</td>\n",
       "      <td>545100.000000</td>\n",
       "    </tr>\n",
       "    <tr>\n",
       "      <th>mean</th>\n",
       "      <td>8.904641</td>\n",
       "      <td>188468.585766</td>\n",
       "      <td>2.291411</td>\n",
       "      <td>64.497004</td>\n",
       "    </tr>\n",
       "    <tr>\n",
       "      <th>std</th>\n",
       "      <td>1.535084</td>\n",
       "      <td>68461.700074</td>\n",
       "      <td>0.818367</td>\n",
       "      <td>72.513035</td>\n",
       "    </tr>\n",
       "    <tr>\n",
       "      <th>min</th>\n",
       "      <td>1.000000</td>\n",
       "      <td>69810.000000</td>\n",
       "      <td>1.000000</td>\n",
       "      <td>0.000000</td>\n",
       "    </tr>\n",
       "    <tr>\n",
       "      <th>25%</th>\n",
       "      <td>8.000000</td>\n",
       "      <td>129349.000000</td>\n",
       "      <td>2.000000</td>\n",
       "      <td>0.000000</td>\n",
       "    </tr>\n",
       "    <tr>\n",
       "      <th>50%</th>\n",
       "      <td>10.000000</td>\n",
       "      <td>188690.000000</td>\n",
       "      <td>2.000000</td>\n",
       "      <td>0.000000</td>\n",
       "    </tr>\n",
       "    <tr>\n",
       "      <th>75%</th>\n",
       "      <td>10.000000</td>\n",
       "      <td>247709.000000</td>\n",
       "      <td>3.000000</td>\n",
       "      <td>97.000000</td>\n",
       "    </tr>\n",
       "    <tr>\n",
       "      <th>max</th>\n",
       "      <td>10.000000</td>\n",
       "      <td>307036.000000</td>\n",
       "      <td>5.000000</td>\n",
       "      <td>197.000000</td>\n",
       "    </tr>\n",
       "  </tbody>\n",
       "</table>\n",
       "</div>"
      ],
      "text/plain": [
       "         Response_Q1     CustomerID          Level          Price\n",
       "count  545100.000000  545100.000000  545100.000000  545100.000000\n",
       "mean        8.904641  188468.585766       2.291411      64.497004\n",
       "std         1.535084   68461.700074       0.818367      72.513035\n",
       "min         1.000000   69810.000000       1.000000       0.000000\n",
       "25%         8.000000  129349.000000       2.000000       0.000000\n",
       "50%        10.000000  188690.000000       2.000000       0.000000\n",
       "75%        10.000000  247709.000000       3.000000      97.000000\n",
       "max        10.000000  307036.000000       5.000000     197.000000"
      ]
     },
     "execution_count": 128,
     "metadata": {},
     "output_type": "execute_result"
    }
   ],
   "source": [
    "train_df.describe()"
   ]
  },
  {
   "cell_type": "code",
   "execution_count": 130,
   "id": "ee970948-763b-44d5-913e-f54edf1b25fe",
   "metadata": {},
   "outputs": [
    {
     "name": "stdout",
     "output_type": "stream",
     "text": [
      "<class 'pandas.core.frame.DataFrame'>\n",
      "Int64Index: 545100 entries, 222919 to 280955\n",
      "Data columns (total 10 columns):\n",
      " #   Column       Non-Null Count   Dtype  \n",
      "---  ------       --------------   -----  \n",
      " 0   Response_Q1  545100 non-null  int64  \n",
      " 1   Response_Q2  545100 non-null  object \n",
      " 2   Response_Q3  545100 non-null  object \n",
      " 3   Response_Q4  545100 non-null  object \n",
      " 4   CustomerID   545100 non-null  int64  \n",
      " 5   Program      545100 non-null  object \n",
      " 6   Requirement  545100 non-null  object \n",
      " 7   Level        545100 non-null  int64  \n",
      " 8   VideoLenght  545100 non-null  object \n",
      " 9   Price        545100 non-null  float64\n",
      "dtypes: float64(1), int64(3), object(6)\n",
      "memory usage: 45.7+ MB\n"
     ]
    }
   ],
   "source": [
    "train_df.info()"
   ]
  },
  {
   "cell_type": "markdown",
   "id": "d307e340-6044-4e07-a51c-182ffe91acd7",
   "metadata": {},
   "source": [
    "## Feature Types"
   ]
  },
  {
   "cell_type": "code",
   "execution_count": 140,
   "id": "1997f387-b191-4de7-8609-180309558e63",
   "metadata": {},
   "outputs": [
    {
     "data": {
      "text/plain": [
       "[['Strongly Agree', 'Agree', 'Neutral', 'Disagree', 'Strongly Disagree'],\n",
       " ['Strongly Agree', 'Agree', 'Neutral', 'Disagree', 'Strongly Disagree'],\n",
       " ['Strongly Agree', 'Agree', 'Neutral', 'Disagree', 'Strongly Disagree']]"
      ]
     },
     "execution_count": 140,
     "metadata": {},
     "output_type": "execute_result"
    }
   ],
   "source": [
    "drop_features = [\"CustomerID\"]\n",
    "#numeric_features = [\n",
    "#    \"Level\",\n",
    "#    \"Price\"\n",
    "#]\n",
    "ordinal_features_reg = [\n",
    "    \"Response_Q2\",\n",
    "    \"Response_Q3\",\n",
    "    \"Response_Q4\"\n",
    "]\n",
    "ordering = [\n",
    "    'Strongly Agree', \n",
    "    'Agree', \n",
    "    'Neutral', \n",
    "    'Disagree',\n",
    "    'Strongly Disagree'\n",
    "]\n",
    "\n",
    "categorical_features = [\n",
    "    \"Program\",\n",
    "    \"Requirement\"\n",
    "    \n",
    "]\n",
    "\n",
    "ordering_ordinal_reg = [ordering] * len(ordinal_features_reg)\n",
    "ordering_ordinal_reg"
   ]
  },
  {
   "cell_type": "markdown",
   "id": "09b04a3e-8814-44e2-a5c4-c592d5a08900",
   "metadata": {},
   "source": [
    "We'll pass the above as categories in our OrdinalEncoder\n",
    "\n",
    "- There are a bunch more ordinal features using different scales.\n",
    "  - These we'll be calling `ordinal_features_oth`. \n",
    "  - We are encoding them separately. "
   ]
  },
  {
   "cell_type": "code",
   "execution_count": 135,
   "id": "393fdebd-4ff9-4cd0-b330-bc9dd57cc175",
   "metadata": {},
   "outputs": [],
   "source": [
    "ordinal_features_oth = [\n",
    "    \"Level\",\n",
    "    \"VideoLenght\",\n",
    "    \"Price\"\n",
    "]\n",
    "\n",
    "ordering_ordinal_oth = [\n",
    "    [1, 2, 3, 4, 5],\n",
    "    ['Under 1 hr', '1-2 hrs', '2-3 hrs', 'Over 3 hrs'],\n",
    "    [0., 97., 99., 147., 197.],\n",
    "]"
   ]
  },
  {
   "cell_type": "markdown",
   "id": "46cc68a7-9477-451b-afff-90004dc4472e",
   "metadata": {},
   "source": [
    "## Applying feature transformations\n",
    "\n",
    "- Since we have mixed feature types, let's use `ColumnTransformer` to apply different transformations on different features types.  "
   ]
  },
  {
   "cell_type": "code",
   "execution_count": 141,
   "id": "e9076133-b829-4a73-bbee-03948b4c4705",
   "metadata": {},
   "outputs": [],
   "source": [
    "from sklearn.pipeline import Pipeline, make_pipeline\n",
    "from sklearn.preprocessing import OneHotEncoder, OrdinalEncoder, StandardScaler\n",
    "from sklearn.compose import ColumnTransformer, make_column_transformer\n",
    "from sklearn.impute import SimpleImputer\n",
    "# numeric_transformer = make_pipeline(SimpleImputer(strategy=\"median\"), StandardScaler())\n",
    "ordinal_transformer_reg = make_pipeline(\n",
    "    SimpleImputer(strategy=\"most_frequent\"),\n",
    "    OrdinalEncoder(categories=ordering_ordinal_reg),\n",
    ")\n",
    "\n",
    "ordinal_transformer_oth = make_pipeline(\n",
    "    SimpleImputer(strategy=\"most_frequent\"),\n",
    "    OrdinalEncoder(categories=ordering_ordinal_oth),\n",
    ")\n",
    "\n",
    "categorical_transformer = make_pipeline(\n",
    "    SimpleImputer(strategy=\"constant\", fill_value=\"missing\"),\n",
    "    OneHotEncoder(handle_unknown=\"ignore\", sparse=False),\n",
    ")\n",
    "\n",
    "preprocessor = make_column_transformer(\n",
    "    (\"drop\", drop_features),\n",
    "    #(numeric_transformer, numeric_features),\n",
    "    (ordinal_transformer_reg, ordinal_features_reg),\n",
    "    (ordinal_transformer_oth, ordinal_features_oth),\n",
    "    (categorical_transformer, categorical_features),\n",
    ")"
   ]
  },
  {
   "cell_type": "markdown",
   "id": "449c67c8-4cce-455d-b05c-b5e23940a947",
   "metadata": {},
   "source": [
    "## Examining the preprocessed data"
   ]
  },
  {
   "cell_type": "code",
   "execution_count": 142,
   "id": "1ceeec94-2eb6-42a3-bd7f-182b97d5d060",
   "metadata": {},
   "outputs": [
    {
     "data": {
      "text/plain": [
       "{'drop': 'drop',\n",
       " 'pipeline-1': Pipeline(steps=[('simpleimputer', SimpleImputer(strategy='most_frequent')),\n",
       "                 ('ordinalencoder',\n",
       "                  OrdinalEncoder(categories=[['Strongly Agree', 'Agree',\n",
       "                                              'Neutral', 'Disagree',\n",
       "                                              'Strongly Disagree'],\n",
       "                                             ['Strongly Agree', 'Agree',\n",
       "                                              'Neutral', 'Disagree',\n",
       "                                              'Strongly Disagree'],\n",
       "                                             ['Strongly Agree', 'Agree',\n",
       "                                              'Neutral', 'Disagree',\n",
       "                                              'Strongly Disagree']]))]),\n",
       " 'pipeline-2': Pipeline(steps=[('simpleimputer', SimpleImputer(strategy='most_frequent')),\n",
       "                 ('ordinalencoder',\n",
       "                  OrdinalEncoder(categories=[[1, 2, 3, 4, 5],\n",
       "                                             ['Under 1 hr', '1-2 hrs', '2-3 hrs',\n",
       "                                              'Over 3 hrs'],\n",
       "                                             [0.0, 97.0, 99.0, 147.0, 197.0]]))]),\n",
       " 'pipeline-3': Pipeline(steps=[('simpleimputer',\n",
       "                  SimpleImputer(fill_value='missing', strategy='constant')),\n",
       "                 ('onehotencoder',\n",
       "                  OneHotEncoder(handle_unknown='ignore', sparse=False))])}"
      ]
     },
     "execution_count": 142,
     "metadata": {},
     "output_type": "execute_result"
    }
   ],
   "source": [
    "preprocessor.fit(X_train)  # Calling fit to examine all the transformers.\n",
    "preprocessor.named_transformers_"
   ]
  },
  {
   "cell_type": "code",
   "execution_count": 146,
   "id": "4e8ae55d-39af-485c-b300-f0cd26365f85",
   "metadata": {},
   "outputs": [],
   "source": [
    "ohe_columns = list(\n",
    "    preprocessor.named_transformers_[\"pipeline-3\"]\n",
    "    .named_steps[\"onehotencoder\"]\n",
    "    .get_feature_names(categorical_features)\n",
    ")\n",
    "new_columns = (\n",
    "    ordinal_features_reg + ordinal_features_oth + ohe_columns\n",
    ")"
   ]
  },
  {
   "cell_type": "code",
   "execution_count": 147,
   "id": "7e045c01-a7ac-4104-adb4-666143dc1655",
   "metadata": {},
   "outputs": [
    {
     "data": {
      "text/plain": [
       "['Response_Q2',\n",
       " 'Response_Q3',\n",
       " 'Response_Q4',\n",
       " 'Level',\n",
       " 'VideoLenght',\n",
       " 'Price',\n",
       " 'Program_ALL PROGRAMS',\n",
       " 'Program_BIDA',\n",
       " 'Program_BIDA, FMVA',\n",
       " 'Program_CBCA',\n",
       " 'Program_CMSA',\n",
       " 'Program_CRE',\n",
       " 'Program_Cryptocurrency',\n",
       " 'Program_ESG',\n",
       " 'Program_FMVA',\n",
       " 'Program_FPWMA',\n",
       " 'Program_ML',\n",
       " 'Requirement_Case Study',\n",
       " 'Requirement_Core',\n",
       " 'Requirement_Elective',\n",
       " 'Requirement_Prep']"
      ]
     },
     "execution_count": 147,
     "metadata": {},
     "output_type": "execute_result"
    }
   ],
   "source": [
    "new_columns"
   ]
  },
  {
   "cell_type": "code",
   "execution_count": 148,
   "id": "0d6d3bab-9677-42b7-9e89-8cc5c816cc9b",
   "metadata": {},
   "outputs": [
    {
     "data": {
      "text/html": [
       "<div>\n",
       "<style scoped>\n",
       "    .dataframe tbody tr th:only-of-type {\n",
       "        vertical-align: middle;\n",
       "    }\n",
       "\n",
       "    .dataframe tbody tr th {\n",
       "        vertical-align: top;\n",
       "    }\n",
       "\n",
       "    .dataframe thead th {\n",
       "        text-align: right;\n",
       "    }\n",
       "</style>\n",
       "<table border=\"1\" class=\"dataframe\">\n",
       "  <thead>\n",
       "    <tr style=\"text-align: right;\">\n",
       "      <th></th>\n",
       "      <th>Response_Q2</th>\n",
       "      <th>Response_Q3</th>\n",
       "      <th>Response_Q4</th>\n",
       "      <th>Level</th>\n",
       "      <th>VideoLenght</th>\n",
       "      <th>Price</th>\n",
       "      <th>Program_ALL PROGRAMS</th>\n",
       "      <th>Program_BIDA</th>\n",
       "      <th>Program_BIDA, FMVA</th>\n",
       "      <th>Program_CBCA</th>\n",
       "      <th>...</th>\n",
       "      <th>Program_CRE</th>\n",
       "      <th>Program_Cryptocurrency</th>\n",
       "      <th>Program_ESG</th>\n",
       "      <th>Program_FMVA</th>\n",
       "      <th>Program_FPWMA</th>\n",
       "      <th>Program_ML</th>\n",
       "      <th>Requirement_Case Study</th>\n",
       "      <th>Requirement_Core</th>\n",
       "      <th>Requirement_Elective</th>\n",
       "      <th>Requirement_Prep</th>\n",
       "    </tr>\n",
       "  </thead>\n",
       "  <tbody>\n",
       "    <tr>\n",
       "      <th>222919</th>\n",
       "      <td>4.0</td>\n",
       "      <td>4.0</td>\n",
       "      <td>4.0</td>\n",
       "      <td>3.0</td>\n",
       "      <td>3.0</td>\n",
       "      <td>3.0</td>\n",
       "      <td>0.0</td>\n",
       "      <td>0.0</td>\n",
       "      <td>0.0</td>\n",
       "      <td>0.0</td>\n",
       "      <td>...</td>\n",
       "      <td>0.0</td>\n",
       "      <td>0.0</td>\n",
       "      <td>0.0</td>\n",
       "      <td>0.0</td>\n",
       "      <td>0.0</td>\n",
       "      <td>0.0</td>\n",
       "      <td>0.0</td>\n",
       "      <td>0.0</td>\n",
       "      <td>1.0</td>\n",
       "      <td>0.0</td>\n",
       "    </tr>\n",
       "    <tr>\n",
       "      <th>92686</th>\n",
       "      <td>2.0</td>\n",
       "      <td>1.0</td>\n",
       "      <td>1.0</td>\n",
       "      <td>1.0</td>\n",
       "      <td>1.0</td>\n",
       "      <td>0.0</td>\n",
       "      <td>0.0</td>\n",
       "      <td>0.0</td>\n",
       "      <td>0.0</td>\n",
       "      <td>0.0</td>\n",
       "      <td>...</td>\n",
       "      <td>0.0</td>\n",
       "      <td>0.0</td>\n",
       "      <td>0.0</td>\n",
       "      <td>1.0</td>\n",
       "      <td>0.0</td>\n",
       "      <td>0.0</td>\n",
       "      <td>0.0</td>\n",
       "      <td>0.0</td>\n",
       "      <td>0.0</td>\n",
       "      <td>1.0</td>\n",
       "    </tr>\n",
       "    <tr>\n",
       "      <th>363329</th>\n",
       "      <td>0.0</td>\n",
       "      <td>0.0</td>\n",
       "      <td>0.0</td>\n",
       "      <td>1.0</td>\n",
       "      <td>2.0</td>\n",
       "      <td>1.0</td>\n",
       "      <td>0.0</td>\n",
       "      <td>0.0</td>\n",
       "      <td>0.0</td>\n",
       "      <td>0.0</td>\n",
       "      <td>...</td>\n",
       "      <td>0.0</td>\n",
       "      <td>0.0</td>\n",
       "      <td>0.0</td>\n",
       "      <td>1.0</td>\n",
       "      <td>0.0</td>\n",
       "      <td>0.0</td>\n",
       "      <td>0.0</td>\n",
       "      <td>0.0</td>\n",
       "      <td>1.0</td>\n",
       "      <td>0.0</td>\n",
       "    </tr>\n",
       "    <tr>\n",
       "      <th>401825</th>\n",
       "      <td>0.0</td>\n",
       "      <td>0.0</td>\n",
       "      <td>0.0</td>\n",
       "      <td>1.0</td>\n",
       "      <td>0.0</td>\n",
       "      <td>0.0</td>\n",
       "      <td>0.0</td>\n",
       "      <td>0.0</td>\n",
       "      <td>0.0</td>\n",
       "      <td>0.0</td>\n",
       "      <td>...</td>\n",
       "      <td>0.0</td>\n",
       "      <td>0.0</td>\n",
       "      <td>0.0</td>\n",
       "      <td>1.0</td>\n",
       "      <td>0.0</td>\n",
       "      <td>0.0</td>\n",
       "      <td>0.0</td>\n",
       "      <td>0.0</td>\n",
       "      <td>0.0</td>\n",
       "      <td>1.0</td>\n",
       "    </tr>\n",
       "    <tr>\n",
       "      <th>297372</th>\n",
       "      <td>2.0</td>\n",
       "      <td>1.0</td>\n",
       "      <td>1.0</td>\n",
       "      <td>0.0</td>\n",
       "      <td>0.0</td>\n",
       "      <td>0.0</td>\n",
       "      <td>0.0</td>\n",
       "      <td>0.0</td>\n",
       "      <td>0.0</td>\n",
       "      <td>0.0</td>\n",
       "      <td>...</td>\n",
       "      <td>0.0</td>\n",
       "      <td>0.0</td>\n",
       "      <td>1.0</td>\n",
       "      <td>0.0</td>\n",
       "      <td>0.0</td>\n",
       "      <td>0.0</td>\n",
       "      <td>0.0</td>\n",
       "      <td>1.0</td>\n",
       "      <td>0.0</td>\n",
       "      <td>0.0</td>\n",
       "    </tr>\n",
       "  </tbody>\n",
       "</table>\n",
       "<p>5 rows × 21 columns</p>\n",
       "</div>"
      ],
      "text/plain": [
       "        Response_Q2  Response_Q3  Response_Q4  Level  VideoLenght  Price  \\\n",
       "222919          4.0          4.0          4.0    3.0          3.0    3.0   \n",
       "92686           2.0          1.0          1.0    1.0          1.0    0.0   \n",
       "363329          0.0          0.0          0.0    1.0          2.0    1.0   \n",
       "401825          0.0          0.0          0.0    1.0          0.0    0.0   \n",
       "297372          2.0          1.0          1.0    0.0          0.0    0.0   \n",
       "\n",
       "        Program_ALL PROGRAMS  Program_BIDA  Program_BIDA, FMVA  Program_CBCA  \\\n",
       "222919                   0.0           0.0                 0.0           0.0   \n",
       "92686                    0.0           0.0                 0.0           0.0   \n",
       "363329                   0.0           0.0                 0.0           0.0   \n",
       "401825                   0.0           0.0                 0.0           0.0   \n",
       "297372                   0.0           0.0                 0.0           0.0   \n",
       "\n",
       "        ...  Program_CRE  Program_Cryptocurrency  Program_ESG  Program_FMVA  \\\n",
       "222919  ...          0.0                     0.0          0.0           0.0   \n",
       "92686   ...          0.0                     0.0          0.0           1.0   \n",
       "363329  ...          0.0                     0.0          0.0           1.0   \n",
       "401825  ...          0.0                     0.0          0.0           1.0   \n",
       "297372  ...          0.0                     0.0          1.0           0.0   \n",
       "\n",
       "        Program_FPWMA  Program_ML  Requirement_Case Study  Requirement_Core  \\\n",
       "222919            0.0         0.0                     0.0               0.0   \n",
       "92686             0.0         0.0                     0.0               0.0   \n",
       "363329            0.0         0.0                     0.0               0.0   \n",
       "401825            0.0         0.0                     0.0               0.0   \n",
       "297372            0.0         0.0                     0.0               1.0   \n",
       "\n",
       "        Requirement_Elective  Requirement_Prep  \n",
       "222919                   1.0               0.0  \n",
       "92686                    0.0               1.0  \n",
       "363329                   1.0               0.0  \n",
       "401825                   0.0               1.0  \n",
       "297372                   0.0               0.0  \n",
       "\n",
       "[5 rows x 21 columns]"
      ]
     },
     "execution_count": 148,
     "metadata": {},
     "output_type": "execute_result"
    }
   ],
   "source": [
    "X_train_enc = pd.DataFrame(\n",
    "    preprocessor.transform(X_train), index=X_train.index, columns=new_columns\n",
    ")\n",
    "X_train_enc.head()"
   ]
  },
  {
   "cell_type": "code",
   "execution_count": 150,
   "id": "31e97b65-6cae-4336-856e-a8daa19c9111",
   "metadata": {},
   "outputs": [
    {
     "data": {
      "text/plain": [
       "(545100, 21)"
      ]
     },
     "execution_count": 150,
     "metadata": {},
     "output_type": "execute_result"
    }
   ],
   "source": [
    "X_train_enc.shape"
   ]
  },
  {
   "cell_type": "markdown",
   "id": "4e8ab56f-6c1f-492a-be36-7c62f51656b7",
   "metadata": {},
   "source": [
    "## Model building "
   ]
  },
  {
   "cell_type": "markdown",
   "id": "37846baf-7e87-4f79-8381-cca007c06fcd",
   "metadata": {},
   "source": [
    "### `DummyRegressor`"
   ]
  },
  {
   "cell_type": "code",
   "execution_count": 153,
   "id": "cc6e35b7-a79f-4ad7-81a1-f8da58c68d18",
   "metadata": {},
   "outputs": [
    {
     "data": {
      "text/html": [
       "<div>\n",
       "<style scoped>\n",
       "    .dataframe tbody tr th:only-of-type {\n",
       "        vertical-align: middle;\n",
       "    }\n",
       "\n",
       "    .dataframe tbody tr th {\n",
       "        vertical-align: top;\n",
       "    }\n",
       "\n",
       "    .dataframe thead th {\n",
       "        text-align: right;\n",
       "    }\n",
       "</style>\n",
       "<table border=\"1\" class=\"dataframe\">\n",
       "  <thead>\n",
       "    <tr style=\"text-align: right;\">\n",
       "      <th></th>\n",
       "      <th>fit_time</th>\n",
       "      <th>score_time</th>\n",
       "      <th>test_score</th>\n",
       "      <th>train_score</th>\n",
       "    </tr>\n",
       "  </thead>\n",
       "  <tbody>\n",
       "    <tr>\n",
       "      <th>0</th>\n",
       "      <td>0.241748</td>\n",
       "      <td>0.007085</td>\n",
       "      <td>-1.030719e-05</td>\n",
       "      <td>0.0</td>\n",
       "    </tr>\n",
       "    <tr>\n",
       "      <th>1</th>\n",
       "      <td>0.086172</td>\n",
       "      <td>0.002292</td>\n",
       "      <td>-1.589615e-09</td>\n",
       "      <td>0.0</td>\n",
       "    </tr>\n",
       "    <tr>\n",
       "      <th>2</th>\n",
       "      <td>0.024373</td>\n",
       "      <td>0.003855</td>\n",
       "      <td>-3.997249e-06</td>\n",
       "      <td>0.0</td>\n",
       "    </tr>\n",
       "    <tr>\n",
       "      <th>3</th>\n",
       "      <td>0.023990</td>\n",
       "      <td>0.001145</td>\n",
       "      <td>-5.357532e-06</td>\n",
       "      <td>0.0</td>\n",
       "    </tr>\n",
       "    <tr>\n",
       "      <th>4</th>\n",
       "      <td>0.019756</td>\n",
       "      <td>0.000399</td>\n",
       "      <td>-7.710638e-07</td>\n",
       "      <td>0.0</td>\n",
       "    </tr>\n",
       "    <tr>\n",
       "      <th>5</th>\n",
       "      <td>0.055854</td>\n",
       "      <td>0.000410</td>\n",
       "      <td>-2.983805e-08</td>\n",
       "      <td>0.0</td>\n",
       "    </tr>\n",
       "    <tr>\n",
       "      <th>6</th>\n",
       "      <td>0.019461</td>\n",
       "      <td>0.000387</td>\n",
       "      <td>-7.705265e-08</td>\n",
       "      <td>0.0</td>\n",
       "    </tr>\n",
       "    <tr>\n",
       "      <th>7</th>\n",
       "      <td>0.020235</td>\n",
       "      <td>0.000460</td>\n",
       "      <td>-6.141694e-06</td>\n",
       "      <td>0.0</td>\n",
       "    </tr>\n",
       "    <tr>\n",
       "      <th>8</th>\n",
       "      <td>0.020253</td>\n",
       "      <td>0.000399</td>\n",
       "      <td>-3.465473e-05</td>\n",
       "      <td>0.0</td>\n",
       "    </tr>\n",
       "    <tr>\n",
       "      <th>9</th>\n",
       "      <td>0.019398</td>\n",
       "      <td>0.000387</td>\n",
       "      <td>-1.948738e-05</td>\n",
       "      <td>0.0</td>\n",
       "    </tr>\n",
       "  </tbody>\n",
       "</table>\n",
       "</div>"
      ],
      "text/plain": [
       "   fit_time  score_time    test_score  train_score\n",
       "0  0.241748    0.007085 -1.030719e-05          0.0\n",
       "1  0.086172    0.002292 -1.589615e-09          0.0\n",
       "2  0.024373    0.003855 -3.997249e-06          0.0\n",
       "3  0.023990    0.001145 -5.357532e-06          0.0\n",
       "4  0.019756    0.000399 -7.710638e-07          0.0\n",
       "5  0.055854    0.000410 -2.983805e-08          0.0\n",
       "6  0.019461    0.000387 -7.705265e-08          0.0\n",
       "7  0.020235    0.000460 -6.141694e-06          0.0\n",
       "8  0.020253    0.000399 -3.465473e-05          0.0\n",
       "9  0.019398    0.000387 -1.948738e-05          0.0"
      ]
     },
     "execution_count": 153,
     "metadata": {},
     "output_type": "execute_result"
    }
   ],
   "source": [
    "dummy = DummyRegressor()\n",
    "pd.DataFrame(cross_validate(dummy, X_train, y_train, cv=10, return_train_score=True))"
   ]
  },
  {
   "cell_type": "markdown",
   "id": "31c50bed-29f3-4b56-a35d-39a0b6580992",
   "metadata": {},
   "source": [
    "### linear model: `Ridge`"
   ]
  },
  {
   "cell_type": "code",
   "execution_count": 154,
   "id": "e0ade78c-cfd9-4dfa-90c9-451fcb40ebbe",
   "metadata": {},
   "outputs": [],
   "source": [
    "lr = make_pipeline(preprocessor, Ridge())\n",
    "lr.fit(X_train, y_train);"
   ]
  },
  {
   "cell_type": "code",
   "execution_count": 155,
   "id": "0b976767-e4a8-408e-9b47-4db3db901d2e",
   "metadata": {},
   "outputs": [
    {
     "data": {
      "text/plain": [
       "array([ 9.98645889,  9.90589103,  9.99470247,  9.91754027,  9.99470247,\n",
       "        9.86696121,  6.47348003,  8.22584767, 10.10430823,  8.14527981])"
      ]
     },
     "execution_count": 155,
     "metadata": {},
     "output_type": "execute_result"
    }
   ],
   "source": [
    "lr_preds = lr.predict(X_test)\n",
    "lr_preds[:10]"
   ]
  },
  {
   "cell_type": "code",
   "execution_count": 156,
   "id": "a578d503-7de1-4c9c-a1b2-7ee0d7e11171",
   "metadata": {},
   "outputs": [
    {
     "data": {
      "text/plain": [
       "(10.189552442919974, 2.6580962428754393)"
      ]
     },
     "execution_count": 156,
     "metadata": {},
     "output_type": "execute_result"
    }
   ],
   "source": [
    "lr_preds.max(), lr_preds.min()"
   ]
  },
  {
   "cell_type": "code",
   "execution_count": 157,
   "id": "06273ae9-2190-448d-ab45-3a84dea41047",
   "metadata": {},
   "outputs": [
    {
     "name": "stdout",
     "output_type": "stream",
     "text": [
      "Smallest coefficient:  -0.8183088266121012\n",
      "Largest coefficient: 0.23146205918514998\n"
     ]
    }
   ],
   "source": [
    "print(\"Smallest coefficient: \", lr.named_steps[\"ridge\"].coef_.min())\n",
    "print(\"Largest coefficient:\", lr.named_steps[\"ridge\"].coef_.max())"
   ]
  },
  {
   "cell_type": "code",
   "execution_count": 158,
   "id": "98026e78-3021-4d71-a446-c3e2c96dc191",
   "metadata": {},
   "outputs": [
    {
     "data": {
      "text/html": [
       "<div>\n",
       "<style scoped>\n",
       "    .dataframe tbody tr th:only-of-type {\n",
       "        vertical-align: middle;\n",
       "    }\n",
       "\n",
       "    .dataframe tbody tr th {\n",
       "        vertical-align: top;\n",
       "    }\n",
       "\n",
       "    .dataframe thead th {\n",
       "        text-align: right;\n",
       "    }\n",
       "</style>\n",
       "<table border=\"1\" class=\"dataframe\">\n",
       "  <thead>\n",
       "    <tr style=\"text-align: right;\">\n",
       "      <th></th>\n",
       "      <th>fit_time</th>\n",
       "      <th>score_time</th>\n",
       "      <th>test_score</th>\n",
       "      <th>train_score</th>\n",
       "    </tr>\n",
       "  </thead>\n",
       "  <tbody>\n",
       "    <tr>\n",
       "      <th>0</th>\n",
       "      <td>1.643657</td>\n",
       "      <td>0.103001</td>\n",
       "      <td>0.523283</td>\n",
       "      <td>0.523397</td>\n",
       "    </tr>\n",
       "    <tr>\n",
       "      <th>1</th>\n",
       "      <td>1.404169</td>\n",
       "      <td>0.089758</td>\n",
       "      <td>0.526797</td>\n",
       "      <td>0.523006</td>\n",
       "    </tr>\n",
       "    <tr>\n",
       "      <th>2</th>\n",
       "      <td>1.244199</td>\n",
       "      <td>0.107367</td>\n",
       "      <td>0.520721</td>\n",
       "      <td>0.523679</td>\n",
       "    </tr>\n",
       "    <tr>\n",
       "      <th>3</th>\n",
       "      <td>1.250920</td>\n",
       "      <td>0.085882</td>\n",
       "      <td>0.524960</td>\n",
       "      <td>0.523211</td>\n",
       "    </tr>\n",
       "    <tr>\n",
       "      <th>4</th>\n",
       "      <td>1.150871</td>\n",
       "      <td>0.086969</td>\n",
       "      <td>0.522890</td>\n",
       "      <td>0.523440</td>\n",
       "    </tr>\n",
       "    <tr>\n",
       "      <th>5</th>\n",
       "      <td>1.117419</td>\n",
       "      <td>0.084705</td>\n",
       "      <td>0.523764</td>\n",
       "      <td>0.523343</td>\n",
       "    </tr>\n",
       "    <tr>\n",
       "      <th>6</th>\n",
       "      <td>1.243207</td>\n",
       "      <td>0.085785</td>\n",
       "      <td>0.521355</td>\n",
       "      <td>0.523613</td>\n",
       "    </tr>\n",
       "    <tr>\n",
       "      <th>7</th>\n",
       "      <td>1.172441</td>\n",
       "      <td>0.088617</td>\n",
       "      <td>0.516169</td>\n",
       "      <td>0.524181</td>\n",
       "    </tr>\n",
       "    <tr>\n",
       "      <th>8</th>\n",
       "      <td>1.224478</td>\n",
       "      <td>0.090016</td>\n",
       "      <td>0.527742</td>\n",
       "      <td>0.522891</td>\n",
       "    </tr>\n",
       "    <tr>\n",
       "      <th>9</th>\n",
       "      <td>1.268668</td>\n",
       "      <td>0.086690</td>\n",
       "      <td>0.525657</td>\n",
       "      <td>0.523133</td>\n",
       "    </tr>\n",
       "  </tbody>\n",
       "</table>\n",
       "</div>"
      ],
      "text/plain": [
       "   fit_time  score_time  test_score  train_score\n",
       "0  1.643657    0.103001    0.523283     0.523397\n",
       "1  1.404169    0.089758    0.526797     0.523006\n",
       "2  1.244199    0.107367    0.520721     0.523679\n",
       "3  1.250920    0.085882    0.524960     0.523211\n",
       "4  1.150871    0.086969    0.522890     0.523440\n",
       "5  1.117419    0.084705    0.523764     0.523343\n",
       "6  1.243207    0.085785    0.521355     0.523613\n",
       "7  1.172441    0.088617    0.516169     0.524181\n",
       "8  1.224478    0.090016    0.527742     0.522891\n",
       "9  1.268668    0.086690    0.525657     0.523133"
      ]
     },
     "execution_count": 158,
     "metadata": {},
     "output_type": "execute_result"
    }
   ],
   "source": [
    "lr_pipe = make_pipeline(preprocessor, Ridge())\n",
    "pd.DataFrame(cross_validate(lr_pipe, X_train, y_train, cv=10, return_train_score=True))"
   ]
  },
  {
   "cell_type": "markdown",
   "id": "2916950f-1f35-4480-aa3b-06e6267cd04e",
   "metadata": {},
   "source": [
    "#### Tuning `alpha` hyperparameter of `Ridge`\n",
    "- Recall that `Ridge` has a hyperparameter `alpha` that controls the fundamental tradeoff.\n",
    "- This is like `C` in `LogisticRegression` but, annoyingly, `alpha` is the inverse of `C`.\n",
    "- That is, large `C` is like small `alpha` and vice versa.\n",
    "- Smaller `alpha`: lower training error (overfitting)"
   ]
  },
  {
   "cell_type": "code",
   "execution_count": 160,
   "id": "cc5a0f54-0f57-4e13-bf80-9b69ba020725",
   "metadata": {},
   "outputs": [],
   "source": [
    "param_grid = {\"ridge__alpha\": 10.0 ** np.arange(-6, 6, 1)}\n",
    "\n",
    "pipe_ridge = make_pipeline(preprocessor, Ridge())\n",
    "\n",
    "search = GridSearchCV(pipe_ridge, param_grid, return_train_score=True, n_jobs=-1)\n",
    "search.fit(X_train, y_train)\n",
    "train_scores = search.cv_results_[\"mean_train_score\"]\n",
    "cv_scores = search.cv_results_[\"mean_test_score\"]"
   ]
  },
  {
   "cell_type": "code",
   "execution_count": 161,
   "id": "acdd5392-f801-45b4-b6c8-90fde5a2886f",
   "metadata": {},
   "outputs": [
    {
     "data": {
      "image/png": "[encoded data removed]",
      "text/plain": [
       "<Figure size 432x288 with 1 Axes>"
      ]
     },
     "metadata": {
      "needs_background": "light"
     },
     "output_type": "display_data"
    }
   ],
   "source": [
    "plt.semilogx(param_grid[\"ridge__alpha\"], train_scores.tolist(), label=\"train\")\n",
    "plt.semilogx(param_grid[\"ridge__alpha\"], cv_scores.tolist(), label=\"cv\")\n",
    "plt.legend()\n",
    "plt.xlabel(\"alpha\")\n",
    "plt.ylabel(\"score\");"
   ]
  },
  {
   "cell_type": "code",
   "execution_count": 164,
   "id": "98f573ec-ffbf-4342-bfdd-7a181711752c",
   "metadata": {},
   "outputs": [
    {
     "data": {
      "text/plain": [
       "{'ridge__alpha': 100.0}"
      ]
     },
     "execution_count": 164,
     "metadata": {},
     "output_type": "execute_result"
    }
   ],
   "source": [
    "best_alpha = search.best_params_\n",
    "best_alpha"
   ]
  },
  {
   "cell_type": "code",
   "execution_count": 162,
   "id": "b6fa97c8-7d9d-4bae-9ef2-9bb1c5126064",
   "metadata": {},
   "outputs": [
    {
     "data": {
      "text/plain": [
       "0.5233469683047616"
      ]
     },
     "execution_count": 162,
     "metadata": {},
     "output_type": "execute_result"
    }
   ],
   "source": [
    "search.best_score_"
   ]
  },
  {
   "cell_type": "code",
   "execution_count": 173,
   "id": "ea5099c0-3188-4820-9a86-831c0f020ff5",
   "metadata": {},
   "outputs": [
    {
     "data": {
      "text/html": [
       "<div>\n",
       "<style scoped>\n",
       "    .dataframe tbody tr th:only-of-type {\n",
       "        vertical-align: middle;\n",
       "    }\n",
       "\n",
       "    .dataframe tbody tr th {\n",
       "        vertical-align: top;\n",
       "    }\n",
       "\n",
       "    .dataframe thead th {\n",
       "        text-align: right;\n",
       "    }\n",
       "</style>\n",
       "<table border=\"1\" class=\"dataframe\">\n",
       "  <thead>\n",
       "    <tr style=\"text-align: right;\">\n",
       "      <th></th>\n",
       "      <th>Coefficients</th>\n",
       "    </tr>\n",
       "  </thead>\n",
       "  <tbody>\n",
       "    <tr>\n",
       "      <th>Response_Q2</th>\n",
       "      <td>0.817893</td>\n",
       "    </tr>\n",
       "    <tr>\n",
       "      <th>Response_Q3</th>\n",
       "      <td>0.520854</td>\n",
       "    </tr>\n",
       "    <tr>\n",
       "      <th>Response_Q4</th>\n",
       "      <td>0.421592</td>\n",
       "    </tr>\n",
       "    <tr>\n",
       "      <th>Program_ESG</th>\n",
       "      <td>0.227761</td>\n",
       "    </tr>\n",
       "    <tr>\n",
       "      <th>Program_ALL PROGRAMS</th>\n",
       "      <td>0.174158</td>\n",
       "    </tr>\n",
       "    <tr>\n",
       "      <th>Program_Cryptocurrency</th>\n",
       "      <td>0.126559</td>\n",
       "    </tr>\n",
       "    <tr>\n",
       "      <th>Program_ML</th>\n",
       "      <td>0.095000</td>\n",
       "    </tr>\n",
       "    <tr>\n",
       "      <th>Requirement_Prep</th>\n",
       "      <td>0.089563</td>\n",
       "    </tr>\n",
       "    <tr>\n",
       "      <th>Program_FPWMA</th>\n",
       "      <td>0.066501</td>\n",
       "    </tr>\n",
       "    <tr>\n",
       "      <th>Requirement_Elective</th>\n",
       "      <td>0.050973</td>\n",
       "    </tr>\n",
       "    <tr>\n",
       "      <th>Program_CBCA</th>\n",
       "      <td>0.048573</td>\n",
       "    </tr>\n",
       "    <tr>\n",
       "      <th>Program_CMSA</th>\n",
       "      <td>0.033451</td>\n",
       "    </tr>\n",
       "    <tr>\n",
       "      <th>Program_BIDA, FMVA</th>\n",
       "      <td>0.031099</td>\n",
       "    </tr>\n",
       "    <tr>\n",
       "      <th>Program_BIDA</th>\n",
       "      <td>0.030746</td>\n",
       "    </tr>\n",
       "    <tr>\n",
       "      <th>Level</th>\n",
       "      <td>0.029076</td>\n",
       "    </tr>\n",
       "    <tr>\n",
       "      <th>Program_FMVA</th>\n",
       "      <td>0.024785</td>\n",
       "    </tr>\n",
       "    <tr>\n",
       "      <th>Requirement_Case Study</th>\n",
       "      <td>0.019828</td>\n",
       "    </tr>\n",
       "    <tr>\n",
       "      <th>Requirement_Core</th>\n",
       "      <td>0.018761</td>\n",
       "    </tr>\n",
       "    <tr>\n",
       "      <th>Program_CRE</th>\n",
       "      <td>0.016992</td>\n",
       "    </tr>\n",
       "    <tr>\n",
       "      <th>VideoLenght</th>\n",
       "      <td>0.008136</td>\n",
       "    </tr>\n",
       "    <tr>\n",
       "      <th>Price</th>\n",
       "      <td>0.005960</td>\n",
       "    </tr>\n",
       "  </tbody>\n",
       "</table>\n",
       "</div>"
      ],
      "text/plain": [
       "                        Coefficients\n",
       "Response_Q2                 0.817893\n",
       "Response_Q3                 0.520854\n",
       "Response_Q4                 0.421592\n",
       "Program_ESG                 0.227761\n",
       "Program_ALL PROGRAMS        0.174158\n",
       "Program_Cryptocurrency      0.126559\n",
       "Program_ML                  0.095000\n",
       "Requirement_Prep            0.089563\n",
       "Program_FPWMA               0.066501\n",
       "Requirement_Elective        0.050973\n",
       "Program_CBCA                0.048573\n",
       "Program_CMSA                0.033451\n",
       "Program_BIDA, FMVA          0.031099\n",
       "Program_BIDA                0.030746\n",
       "Level                       0.029076\n",
       "Program_FMVA                0.024785\n",
       "Requirement_Case Study      0.019828\n",
       "Requirement_Core            0.018761\n",
       "Program_CRE                 0.016992\n",
       "VideoLenght                 0.008136\n",
       "Price                       0.005960"
      ]
     },
     "execution_count": 173,
     "metadata": {},
     "output_type": "execute_result"
    }
   ],
   "source": [
    "pipe_bigalpha = make_pipeline(preprocessor, Ridge(alpha=100))\n",
    "pipe_bigalpha.fit(X_train, y_train)\n",
    "bigalpha_coeffs = pipe_bigalpha.named_steps[\"ridge\"].coef_\n",
    "pd.DataFrame(\n",
    "    data=abs(bigalpha_coeffs), index=new_columns, columns=[\"Coefficients\"]\n",
    ").sort_values(by=\"Coefficients\", ascending=False)"
   ]
  },
  {
   "cell_type": "markdown",
   "id": "cfd2ce66-09f1-4228-a888-0ff1bc7c7f27",
   "metadata": {},
   "source": [
    "### Random Forest"
   ]
  },
  {
   "cell_type": "code",
   "execution_count": 185,
   "id": "16dfac69-9291-4abd-9ddc-416c4e72f7e9",
   "metadata": {},
   "outputs": [],
   "source": [
    "def mean_std_cross_val_scores(model, X_train, y_train, **kwargs):\n",
    "    \"\"\"\n",
    "    Returns mean and std of cross validation\n",
    "\n",
    "    Parameters\n",
    "    ----------\n",
    "    model :\n",
    "        scikit-learn model\n",
    "    X_train : numpy array or pandas DataFrame\n",
    "        X in the training data\n",
    "    y_train :\n",
    "        y in the training data\n",
    "\n",
    "    Returns\n",
    "    ----------\n",
    "        pandas Series with mean scores from cross_validation\n",
    "    \"\"\"\n",
    "\n",
    "    scores = cross_validate(model, X_train, y_train, **kwargs)\n",
    "\n",
    "    mean_scores = pd.DataFrame(scores).mean()\n",
    "    std_scores = pd.DataFrame(scores).std()\n",
    "    out_col = []\n",
    "\n",
    "    for i in range(len(mean_scores)):\n",
    "        out_col.append((f\"%0.3f (+/- %0.3f)\" % (mean_scores[i], std_scores[i])))\n",
    "\n",
    "    return pd.Series(data=out_col, index=mean_scores.index)\n"
   ]
  },
  {
   "cell_type": "code",
   "execution_count": 192,
   "id": "e7b53c4c-f380-49a6-a540-e0d4952155e3",
   "metadata": {},
   "outputs": [],
   "source": [
    "scoring_metrics = {\n",
    "    \"neg_mean_squared_error\": \"neg_mean_squared_error\",\n",
    "    \"r2\": \"r2\",\n",
    "    \"accuracy\": \"accuracy\",\n",
    "}"
   ]
  },
  {
   "cell_type": "code",
   "execution_count": 193,
   "id": "1efb3aa9-e4ff-45b0-b3c4-eeebe738fa1f",
   "metadata": {},
   "outputs": [],
   "source": [
    "results = {}"
   ]
  },
  {
   "cell_type": "code",
   "execution_count": 194,
   "id": "064bae64-2162-447a-b2a2-f2cee0b06f34",
   "metadata": {},
   "outputs": [],
   "source": [
    "dummy = DummyClassifier(strategy=\"stratified\")\n",
    "results[\"Dummy\"] = mean_std_cross_val_scores(\n",
    "    dummy, X_train, y_train, return_train_score=True, scoring=scoring_metrics\n",
    ")"
   ]
  },
  {
   "cell_type": "code",
   "execution_count": 195,
   "id": "6fbe66e8-7f8a-4db2-8ea9-4f5f54a1a143",
   "metadata": {},
   "outputs": [
    {
     "data": {
      "text/html": [
       "<div>\n",
       "<style scoped>\n",
       "    .dataframe tbody tr th:only-of-type {\n",
       "        vertical-align: middle;\n",
       "    }\n",
       "\n",
       "    .dataframe tbody tr th {\n",
       "        vertical-align: top;\n",
       "    }\n",
       "\n",
       "    .dataframe thead th {\n",
       "        text-align: right;\n",
       "    }\n",
       "</style>\n",
       "<table border=\"1\" class=\"dataframe\">\n",
       "  <thead>\n",
       "    <tr style=\"text-align: right;\">\n",
       "      <th></th>\n",
       "      <th>fit_time</th>\n",
       "      <th>score_time</th>\n",
       "      <th>test_neg_mean_squared_error</th>\n",
       "      <th>train_neg_mean_squared_error</th>\n",
       "      <th>test_r2</th>\n",
       "      <th>train_r2</th>\n",
       "      <th>test_accuracy</th>\n",
       "      <th>train_accuracy</th>\n",
       "    </tr>\n",
       "  </thead>\n",
       "  <tbody>\n",
       "    <tr>\n",
       "      <th>Dummy</th>\n",
       "      <td>0.060 (+/- 0.025)</td>\n",
       "      <td>0.038 (+/- 0.004)</td>\n",
       "      <td>-4.731 (+/- 0.024)</td>\n",
       "      <td>-4.714 (+/- 0.005)</td>\n",
       "      <td>-1.008 (+/- 0.010)</td>\n",
       "      <td>-1.000 (+/- 0.002)</td>\n",
       "      <td>0.327 (+/- 0.001)</td>\n",
       "      <td>0.327 (+/- 0.000)</td>\n",
       "    </tr>\n",
       "  </tbody>\n",
       "</table>\n",
       "</div>"
      ],
      "text/plain": [
       "                fit_time         score_time test_neg_mean_squared_error  \\\n",
       "Dummy  0.060 (+/- 0.025)  0.038 (+/- 0.004)          -4.731 (+/- 0.024)   \n",
       "\n",
       "      train_neg_mean_squared_error             test_r2            train_r2  \\\n",
       "Dummy           -4.714 (+/- 0.005)  -1.008 (+/- 0.010)  -1.000 (+/- 0.002)   \n",
       "\n",
       "           test_accuracy     train_accuracy  \n",
       "Dummy  0.327 (+/- 0.001)  0.327 (+/- 0.000)  "
      ]
     },
     "execution_count": 195,
     "metadata": {},
     "output_type": "execute_result"
    }
   ],
   "source": [
    "pd.DataFrame(results).T"
   ]
  },
  {
   "cell_type": "code",
   "execution_count": null,
   "id": "37d15bad-b231-4f65-b266-e0779586092f",
   "metadata": {},
   "outputs": [],
   "source": []
  },
  {
   "cell_type": "code",
   "execution_count": 197,
   "id": "fe884373-a1b2-4b34-a84a-7358404ec5bc",
   "metadata": {},
   "outputs": [
    {
     "data": {
      "text/html": [
       "<div>\n",
       "<style scoped>\n",
       "    .dataframe tbody tr th:only-of-type {\n",
       "        vertical-align: middle;\n",
       "    }\n",
       "\n",
       "    .dataframe tbody tr th {\n",
       "        vertical-align: top;\n",
       "    }\n",
       "\n",
       "    .dataframe thead th {\n",
       "        text-align: right;\n",
       "    }\n",
       "</style>\n",
       "<table border=\"1\" class=\"dataframe\">\n",
       "  <thead>\n",
       "    <tr style=\"text-align: right;\">\n",
       "      <th></th>\n",
       "      <th>fit_time</th>\n",
       "      <th>score_time</th>\n",
       "      <th>test_neg_mean_squared_error</th>\n",
       "      <th>train_neg_mean_squared_error</th>\n",
       "      <th>test_r2</th>\n",
       "      <th>train_r2</th>\n",
       "      <th>test_accuracy</th>\n",
       "      <th>train_accuracy</th>\n",
       "    </tr>\n",
       "  </thead>\n",
       "  <tbody>\n",
       "    <tr>\n",
       "      <th>Dummy</th>\n",
       "      <td>0.060 (+/- 0.025)</td>\n",
       "      <td>0.038 (+/- 0.004)</td>\n",
       "      <td>-4.731 (+/- 0.024)</td>\n",
       "      <td>-4.714 (+/- 0.005)</td>\n",
       "      <td>-1.008 (+/- 0.010)</td>\n",
       "      <td>-1.000 (+/- 0.002)</td>\n",
       "      <td>0.327 (+/- 0.001)</td>\n",
       "      <td>0.327 (+/- 0.000)</td>\n",
       "    </tr>\n",
       "    <tr>\n",
       "      <th>Random forests</th>\n",
       "      <td>12.454 (+/- 2.526)</td>\n",
       "      <td>0.790 (+/- 0.134)</td>\n",
       "      <td>-1.363 (+/- 0.006)</td>\n",
       "      <td>-1.304 (+/- 0.004)</td>\n",
       "      <td>0.422 (+/- 0.002)</td>\n",
       "      <td>0.447 (+/- 0.002)</td>\n",
       "      <td>0.600 (+/- 0.001)</td>\n",
       "      <td>0.609 (+/- 0.000)</td>\n",
       "    </tr>\n",
       "  </tbody>\n",
       "</table>\n",
       "</div>"
      ],
      "text/plain": [
       "                          fit_time         score_time  \\\n",
       "Dummy            0.060 (+/- 0.025)  0.038 (+/- 0.004)   \n",
       "Random forests  12.454 (+/- 2.526)  0.790 (+/- 0.134)   \n",
       "\n",
       "               test_neg_mean_squared_error train_neg_mean_squared_error  \\\n",
       "Dummy                   -4.731 (+/- 0.024)           -4.714 (+/- 0.005)   \n",
       "Random forests          -1.363 (+/- 0.006)           -1.304 (+/- 0.004)   \n",
       "\n",
       "                           test_r2            train_r2      test_accuracy  \\\n",
       "Dummy           -1.008 (+/- 0.010)  -1.000 (+/- 0.002)  0.327 (+/- 0.001)   \n",
       "Random forests   0.422 (+/- 0.002)   0.447 (+/- 0.002)  0.600 (+/- 0.001)   \n",
       "\n",
       "                   train_accuracy  \n",
       "Dummy           0.327 (+/- 0.000)  \n",
       "Random forests  0.609 (+/- 0.000)  "
      ]
     },
     "execution_count": 197,
     "metadata": {},
     "output_type": "execute_result"
    }
   ],
   "source": [
    "from sklearn.ensemble import RandomForestClassifier\n",
    "\n",
    "pipe_rf = make_pipeline(\n",
    "    preprocessor, RandomForestClassifier(random_state=123, n_jobs=-1)\n",
    ")\n",
    "results[\"Random forests\"] = mean_std_cross_val_scores(\n",
    "    pipe_rf, X_train, y_train, return_train_score=True, scoring=scoring_metrics\n",
    ")\n",
    "pd.DataFrame(results).T"
   ]
  },
  {
   "cell_type": "markdown",
   "id": "9c50f99f-cfbb-4c1a-9a39-3689f9e91fef",
   "metadata": {},
   "source": [
    "#### Example"
   ]
  },
  {
   "cell_type": "code",
   "execution_count": 200,
   "id": "4adbaef6-6bc4-42a3-b529-8c8db9731f9d",
   "metadata": {},
   "outputs": [],
   "source": [
    "pipe_rf_demo = make_pipeline(\n",
    "    preprocessor, RandomForestClassifier(max_depth=2, n_estimators=3, random_state=123)\n",
    ")\n",
    "pipe_rf_demo.fit(X_train, y_train);"
   ]
  },
  {
   "cell_type": "code",
   "execution_count": 215,
   "id": "0796a0fd-8526-4ad0-a56a-0a2949c3cba0",
   "metadata": {},
   "outputs": [],
   "source": [
    "ohe_names = list(pipe_rf_demo.named_steps[\"columntransformer\"].named_transformers_[\"pipeline-3\"].named_steps[\"onehotencoder\"].get_feature_names_out())"
   ]
  },
  {
   "cell_type": "code",
   "execution_count": 214,
   "id": "5b8a60da-d3e9-4110-8d09-c9a95bebd3de",
   "metadata": {},
   "outputs": [
    {
     "data": {
      "text/plain": [
       "['Response_Q2',\n",
       " 'Response_Q3',\n",
       " 'Response_Q4',\n",
       " 'Level',\n",
       " 'VideoLenght',\n",
       " 'Price',\n",
       " 'x0_ALL PROGRAMS',\n",
       " 'x0_BIDA',\n",
       " 'x0_BIDA, FMVA',\n",
       " 'x0_CBCA',\n",
       " 'x0_CMSA',\n",
       " 'x0_CRE',\n",
       " 'x0_Cryptocurrency',\n",
       " 'x0_ESG',\n",
       " 'x0_FMVA',\n",
       " 'x0_FPWMA',\n",
       " 'x0_ML',\n",
       " 'x1_Case Study',\n",
       " 'x1_Core',\n",
       " 'x1_Elective',\n",
       " 'x1_Prep']"
      ]
     },
     "execution_count": 214,
     "metadata": {},
     "output_type": "execute_result"
    }
   ],
   "source": [
    "feature_names = ordinal_features_reg + ordinal_features_oth + ohe_names\n",
    "feature_names"
   ]
  },
  {
   "cell_type": "code",
   "execution_count": 216,
   "id": "5f5f2d04-a447-424c-afb5-6df6f2901b88",
   "metadata": {},
   "outputs": [
    {
     "name": "stdout",
     "output_type": "stream",
     "text": [
      "Classes:  [ 1  2  3  4  5  6  7  8  9 10]\n",
      "Prediction by random forest:  [8]\n"
     ]
    },
    {
     "data": {
      "text/html": [
       "<div>\n",
       "<style scoped>\n",
       "    .dataframe tbody tr th:only-of-type {\n",
       "        vertical-align: middle;\n",
       "    }\n",
       "\n",
       "    .dataframe tbody tr th {\n",
       "        vertical-align: top;\n",
       "    }\n",
       "\n",
       "    .dataframe thead th {\n",
       "        text-align: right;\n",
       "    }\n",
       "</style>\n",
       "<table border=\"1\" class=\"dataframe\">\n",
       "  <thead>\n",
       "    <tr style=\"text-align: right;\">\n",
       "      <th></th>\n",
       "      <th>0</th>\n",
       "    </tr>\n",
       "  </thead>\n",
       "  <tbody>\n",
       "    <tr>\n",
       "      <th>Response_Q2</th>\n",
       "      <td>1.0</td>\n",
       "    </tr>\n",
       "    <tr>\n",
       "      <th>Response_Q3</th>\n",
       "      <td>1.0</td>\n",
       "    </tr>\n",
       "    <tr>\n",
       "      <th>Response_Q4</th>\n",
       "      <td>1.0</td>\n",
       "    </tr>\n",
       "    <tr>\n",
       "      <th>Level</th>\n",
       "      <td>1.0</td>\n",
       "    </tr>\n",
       "    <tr>\n",
       "      <th>VideoLenght</th>\n",
       "      <td>2.0</td>\n",
       "    </tr>\n",
       "    <tr>\n",
       "      <th>Price</th>\n",
       "      <td>1.0</td>\n",
       "    </tr>\n",
       "    <tr>\n",
       "      <th>x0_ALL PROGRAMS</th>\n",
       "      <td>0.0</td>\n",
       "    </tr>\n",
       "    <tr>\n",
       "      <th>x0_BIDA</th>\n",
       "      <td>0.0</td>\n",
       "    </tr>\n",
       "    <tr>\n",
       "      <th>x0_BIDA, FMVA</th>\n",
       "      <td>0.0</td>\n",
       "    </tr>\n",
       "    <tr>\n",
       "      <th>x0_CBCA</th>\n",
       "      <td>0.0</td>\n",
       "    </tr>\n",
       "    <tr>\n",
       "      <th>x0_CMSA</th>\n",
       "      <td>0.0</td>\n",
       "    </tr>\n",
       "    <tr>\n",
       "      <th>x0_CRE</th>\n",
       "      <td>0.0</td>\n",
       "    </tr>\n",
       "    <tr>\n",
       "      <th>x0_Cryptocurrency</th>\n",
       "      <td>0.0</td>\n",
       "    </tr>\n",
       "    <tr>\n",
       "      <th>x0_ESG</th>\n",
       "      <td>0.0</td>\n",
       "    </tr>\n",
       "    <tr>\n",
       "      <th>x0_FMVA</th>\n",
       "      <td>1.0</td>\n",
       "    </tr>\n",
       "    <tr>\n",
       "      <th>x0_FPWMA</th>\n",
       "      <td>0.0</td>\n",
       "    </tr>\n",
       "    <tr>\n",
       "      <th>x0_ML</th>\n",
       "      <td>0.0</td>\n",
       "    </tr>\n",
       "    <tr>\n",
       "      <th>x1_Case Study</th>\n",
       "      <td>0.0</td>\n",
       "    </tr>\n",
       "    <tr>\n",
       "      <th>x1_Core</th>\n",
       "      <td>0.0</td>\n",
       "    </tr>\n",
       "    <tr>\n",
       "      <th>x1_Elective</th>\n",
       "      <td>1.0</td>\n",
       "    </tr>\n",
       "    <tr>\n",
       "      <th>x1_Prep</th>\n",
       "      <td>0.0</td>\n",
       "    </tr>\n",
       "  </tbody>\n",
       "</table>\n",
       "</div>"
      ],
      "text/plain": [
       "                     0\n",
       "Response_Q2        1.0\n",
       "Response_Q3        1.0\n",
       "Response_Q4        1.0\n",
       "Level              1.0\n",
       "VideoLenght        2.0\n",
       "Price              1.0\n",
       "x0_ALL PROGRAMS    0.0\n",
       "x0_BIDA            0.0\n",
       "x0_BIDA, FMVA      0.0\n",
       "x0_CBCA            0.0\n",
       "x0_CMSA            0.0\n",
       "x0_CRE             0.0\n",
       "x0_Cryptocurrency  0.0\n",
       "x0_ESG             0.0\n",
       "x0_FMVA            1.0\n",
       "x0_FPWMA           0.0\n",
       "x0_ML              0.0\n",
       "x1_Case Study      0.0\n",
       "x1_Core            0.0\n",
       "x1_Elective        1.0\n",
       "x1_Prep            0.0"
      ]
     },
     "execution_count": 216,
     "metadata": {},
     "output_type": "execute_result"
    }
   ],
   "source": [
    "test_example = X_test.sample(1)\n",
    "print(\"Classes: \", pipe_rf_demo.classes_)\n",
    "print(\"Prediction by random forest: \", pipe_rf_demo.predict(test_example))\n",
    "transformed_example = preprocessor.transform(test_example)\n",
    "pd.DataFrame(data = transformed_example.flatten(), index=feature_names)"
   ]
  },
  {
   "cell_type": "code",
   "execution_count": null,
   "id": "530d781c-0925-42d3-9eea-2a356a060be9",
   "metadata": {},
   "outputs": [],
   "source": []
  },
  {
   "cell_type": "code",
   "execution_count": null,
   "id": "1f289097-1da6-4176-8c60-0697df5e62db",
   "metadata": {},
   "outputs": [],
   "source": []
  },
  {
   "cell_type": "markdown",
   "id": "1634da68-7f11-401e-8b2d-afd4dfcda35b",
   "metadata": {},
   "source": [
    "## WordCloud for Courses"
   ]
  },
  {
   "cell_type": "markdown",
   "id": "fd6f80df-3572-4684-b295-1f0b8e593ecc",
   "metadata": {},
   "source": [
    "### Text Polarity"
   ]
  },
  {
   "cell_type": "code",
   "execution_count": 564,
   "id": "06e15695-eb7a-4bd6-86b4-a6b69df42c7d",
   "metadata": {},
   "outputs": [],
   "source": [
    "#survey_df"
   ]
  },
  {
   "cell_type": "raw",
   "id": "df12582f-18a7-480a-9bfa-aab17b0035bd",
   "metadata": {},
   "source": [
    "tf-idf"
   ]
  },
  {
   "cell_type": "code",
   "execution_count": 7,
   "id": "9800926b-88f7-42bd-908c-211ff7d7b296",
   "metadata": {},
   "outputs": [],
   "source": [
    "def sent_polarity(text):\n",
    "    '''Calculate the sentiment polarity of a text'''\n",
    "    return TextBlob(str(text)).polarity\n",
    "\n",
    "survey_df['comment_polarity'] = survey_df['Response_Q5'].apply(sent_polarity)"
   ]
  },
  {
   "cell_type": "code",
   "execution_count": 8,
   "id": "7ca4494a-159a-46a8-9aea-de5e76b7ad60",
   "metadata": {},
   "outputs": [],
   "source": [
    "from collections import defaultdict\n",
    "neg_comment = defaultdict(list)\n",
    "pos_comment = defaultdict(list)"
   ]
  },
  {
   "cell_type": "code",
   "execution_count": 9,
   "id": "fa14470c-777c-4ff7-9ad3-f95343e1129e",
   "metadata": {},
   "outputs": [],
   "source": [
    "neg_survey_df =  survey_df[survey_df[\"comment_polarity\"] < 0]\n",
    "\n",
    "for i in range(neg_survey_df.shape[0]):\n",
    "    CourseName = neg_survey_df.iloc[i][\"CourseName\"]\n",
    "    comment = neg_survey_df.iloc[i][\"Response_Q5\"]\n",
    "    neg_comment[CourseName].append(comment)\n",
    "    "
   ]
  },
  {
   "cell_type": "code",
   "execution_count": 10,
   "id": "73120d9f-9a04-45cb-86e0-cab487e63555",
   "metadata": {},
   "outputs": [
    {
     "data": {
      "text/plain": [
       "123"
      ]
     },
     "execution_count": 10,
     "metadata": {},
     "output_type": "execute_result"
    }
   ],
   "source": [
    "len(neg_comment.keys())\n",
    "# 132 - 118 = 14 courses don't have negative comments"
   ]
  },
  {
   "cell_type": "code",
   "execution_count": null,
   "id": "e41486f4-a9db-4a2e-9c42-d76b4f27817c",
   "metadata": {},
   "outputs": [],
   "source": []
  },
  {
   "cell_type": "code",
   "execution_count": 11,
   "id": "c1cd914b-904e-40d8-b76a-12049402d275",
   "metadata": {},
   "outputs": [],
   "source": [
    "pos_survey_df =  survey_df[survey_df[\"comment_polarity\"] > 0]\n",
    "\n",
    "for i in range(pos_survey_df.shape[0]):\n",
    "    CourseName = pos_survey_df.iloc[i][\"CourseName\"]\n",
    "    comment = pos_survey_df.iloc[i][\"Response_Q5\"]\n",
    "    pos_comment[CourseName].append(comment)\n",
    "    "
   ]
  },
  {
   "cell_type": "code",
   "execution_count": 12,
   "id": "563f7cda-595f-4fd1-8fdb-f7ae60028dea",
   "metadata": {},
   "outputs": [],
   "source": [
    "#pos_comment"
   ]
  },
  {
   "cell_type": "code",
   "execution_count": null,
   "id": "1a0a680b-c672-42e7-b3f7-94b6609c6233",
   "metadata": {},
   "outputs": [],
   "source": []
  },
  {
   "cell_type": "code",
   "execution_count": 13,
   "id": "ed65bfc8-eac7-4dc3-80e9-c7b01d416ba2",
   "metadata": {},
   "outputs": [
    {
     "data": {
      "text/plain": [
       "125"
      ]
     },
     "execution_count": 13,
     "metadata": {},
     "output_type": "execute_result"
    }
   ],
   "source": [
    "len(pos_comment.keys())\n",
    "# 132 - 119 = 13 courses don't have positive comments"
   ]
  },
  {
   "cell_type": "code",
   "execution_count": 14,
   "id": "e15bd261-87f6-4faa-9bfa-b9814ca1c93e",
   "metadata": {},
   "outputs": [
    {
     "data": {
      "text/plain": [
       "{'Advanced Futures & Forwards'}"
      ]
     },
     "execution_count": 14,
     "metadata": {},
     "output_type": "execute_result"
    }
   ],
   "source": [
    "set(neg_comment.keys()) - set(pos_comment.keys())\n",
    "# only have negative comment"
   ]
  },
  {
   "cell_type": "code",
   "execution_count": 15,
   "id": "4bf9b28e-184f-45cd-b652-7bfd7bca6660",
   "metadata": {},
   "outputs": [
    {
     "data": {
      "text/plain": [
       "{'Applied Technical Analysis for Equity Markets',\n",
       " 'Case Study - RockCrusher Rentals',\n",
       " 'Financial Modeling using VBA'}"
      ]
     },
     "execution_count": 15,
     "metadata": {},
     "output_type": "execute_result"
    }
   ],
   "source": [
    "set(pos_comment.keys()) - set(neg_comment.keys())\n",
    "# only have positive comment"
   ]
  },
  {
   "cell_type": "code",
   "execution_count": 16,
   "id": "f9ebd63b-8ec9-4c1c-85cd-53ec27147f65",
   "metadata": {},
   "outputs": [
    {
     "data": {
      "text/plain": [
       "['Satisfied',\n",
       " 'It would be great if you show US how to estimate expenses when calcuating RAROC ',\n",
       " 'all good',\n",
       " 'good course',\n",
       " 'More practical exercises.',\n",
       " 'Thanks',\n",
       " 'Overall good']"
      ]
     },
     "execution_count": 16,
     "metadata": {},
     "output_type": "execute_result"
    }
   ],
   "source": [
    "pos_comment['Case Study - RockCrusher Rentals']"
   ]
  },
  {
   "cell_type": "markdown",
   "id": "08a38578-de95-4c6f-ba41-1a5c0af7291e",
   "metadata": {},
   "source": [
    "### extract nouns and adjectives"
   ]
  },
  {
   "cell_type": "code",
   "execution_count": 18,
   "id": "5fddbb71-648d-4359-825b-3cd101db9703",
   "metadata": {},
   "outputs": [],
   "source": [
    "import nltk\n",
    "sentences = []\n",
    "for comment in pos_comment['Case Study - RockCrusher Rentals']:\n",
    "    sentences.extend(nltk.sent_tokenize(comment)) \n",
    "n_adj = '' # str to hold all nouns and adjectives\n",
    "\n",
    "for sentence in sentences:\n",
    "     for word, pos in nltk.pos_tag(nltk.word_tokenize(sentence)):\n",
    "        if pos.startswith('NN') or pos.startswith('JJ'):\n",
    "            n_adj += word\n",
    "            n_adj += ' '\n"
   ]
  },
  {
   "cell_type": "code",
   "execution_count": 19,
   "id": "c6b49edf-1ed7-4d3f-9982-521cb3fb6f5f",
   "metadata": {},
   "outputs": [
    {
     "data": {
      "text/plain": [
       "'Satisfied great expenses RAROC good good course practical exercises Thanks Overall good '"
      ]
     },
     "execution_count": 19,
     "metadata": {},
     "output_type": "execute_result"
    }
   ],
   "source": [
    "n_adj"
   ]
  },
  {
   "cell_type": "markdown",
   "id": "e0982c9d-3135-4e65-9e2d-fe27dde203ad",
   "metadata": {},
   "source": [
    "### Generate word could"
   ]
  },
  {
   "cell_type": "code",
   "execution_count": null,
   "id": "48395e71-95fc-4b28-ab38-d6d5423555e7",
   "metadata": {},
   "outputs": [],
   "source": []
  },
  {
   "cell_type": "code",
   "execution_count": 20,
   "id": "33ba6c32-ab30-4f73-a82c-e76978e9f320",
   "metadata": {},
   "outputs": [],
   "source": [
    "#from nltk.tokenize import RegexpTokenizer\n",
    "#tokenizer = RegexpTokenizer(r'\\w+')"
   ]
  },
  {
   "cell_type": "code",
   "execution_count": 49,
   "id": "c594efc3-b35e-4cbd-a5a7-1a3e97df1756",
   "metadata": {},
   "outputs": [],
   "source": [
    "from wordcloud import WordCloud, STOPWORDS, ImageColorGenerator\n",
    "stopwords = set(STOPWORDS)\n",
    "stopwords.update([\"course\", \"courses\", \"topic\", \"section\", \"good\", \"great\", \n",
    "                  \"goodgood\", \"file\", \"content\", \"thank\", \"work\", \"learning\", \"VBA\", \n",
    "                  \"follow\", \"bit\", \"lot\", \"make\", \"use\", \"without\", \"think\",\n",
    "                 \"little\", \"learn\", \"feel\", \"first\", \"excel\", \"need\", \"much\",\n",
    "                 \"working\", \"provided\", \"thanks\", \"finance\", \"better\", \"excellent\",\n",
    "                 \"instructor\", \"model\", \"formula\", \"question\", \"questions\", \"example\"])"
   ]
  },
  {
   "cell_type": "code",
   "execution_count": 50,
   "id": "d54e9f9c-bb98-4085-b734-15dd333d3625",
   "metadata": {},
   "outputs": [],
   "source": [
    "\n",
    "\n",
    "def word_cloud(CourseName):\n",
    "    '''generate the positive and negative word cloud for a course'''\n",
    "    \n",
    "\n",
    "    print (\"Negative Comments: {}\".format(len(neg_comment[CourseName])))\n",
    "    if len(neg_comment[CourseName]) != 0:\n",
    "        sentences = []\n",
    "        for comment in neg_comment[CourseName]:\n",
    "            sentences.extend(nltk.sent_tokenize(comment)) \n",
    "        n_adj = '' # str to hold all nouns and adjectives\n",
    "        for sentence in sentences:\n",
    "             for word, pos in nltk.pos_tag(nltk.word_tokenize(sentence)):\n",
    "                if pos.startswith('NN') or pos.startswith('JJ'):\n",
    "                    n_adj += word\n",
    "                    n_adj += ' '\n",
    "        wordcloud = WordCloud(stopwords=stopwords, max_font_size=50, max_words=50, background_color=\"black\").generate(n_adj)\n",
    "        plt.figure()\n",
    "        plt.imshow(wordcloud, interpolation=\"bilinear\")\n",
    "        plt.axis(\"off\")\n",
    "        plt.show()\n",
    "            \n",
    "    #text = tokenizer.tokenize(pos_comment[CourseName])\n",
    "    print (\"Positive Comments: {}\".format(len(pos_comment[CourseName])))\n",
    "    if len(pos_comment[CourseName]) != 0:\n",
    "        sentences = []\n",
    "        for comment in pos_comment[CourseName]:\n",
    "            sentences.extend(nltk.sent_tokenize(comment)) \n",
    "        n_adj = '' # str to hold all nouns and adjectives\n",
    "        for sentence in sentences:\n",
    "             for word, pos in nltk.pos_tag(nltk.word_tokenize(sentence)):\n",
    "                if pos.startswith('NN') or pos.startswith('JJ'):\n",
    "                    n_adj += word\n",
    "                    n_adj += ' '\n",
    "        wordcloud = WordCloud(stopwords=stopwords, max_font_size=50, max_words=50, background_color=\"white\").generate(n_adj)\n",
    "        plt.figure()\n",
    "        plt.imshow(wordcloud, interpolation=\"bilinear\")\n",
    "        plt.axis(\"off\")\n",
    "        plt.show()"
   ]
  },
  {
   "cell_type": "code",
   "execution_count": 51,
   "id": "12c3ce3d-3987-44e3-b17a-3e354f00a0d2",
   "metadata": {},
   "outputs": [
    {
     "name": "stdout",
     "output_type": "stream",
     "text": [
      "Negative Comments: 294\n"
     ]
    },
    {
     "data": {
      "image/png": "[encoded data removed]",
      "text/plain": [
       "<Figure size 432x288 with 1 Axes>"
      ]
     },
     "metadata": {
      "needs_background": "light"
     },
     "output_type": "display_data"
    },
    {
     "name": "stdout",
     "output_type": "stream",
     "text": [
      "Positive Comments: 1082\n"
     ]
    },
    {
     "data": {
      "image/png": "[encoded data removed]",
      "text/plain": [
       "<Figure size 432x288 with 1 Axes>"
      ]
     },
     "metadata": {
      "needs_background": "light"
     },
     "output_type": "display_data"
    }
   ],
   "source": [
    "\n",
    "word_cloud(\"Accounting Principles and Standards\")"
   ]
  },
  {
   "cell_type": "code",
   "execution_count": 53,
   "id": "9cf9782d-74bf-45e1-8eb4-67e89cfca992",
   "metadata": {},
   "outputs": [
    {
     "name": "stdout",
     "output_type": "stream",
     "text": [
      "Negative Comments: 3\n"
     ]
    },
    {
     "data": {
      "image/png": "[encoded data removed]",
      "text/plain": [
       "<Figure size 432x288 with 1 Axes>"
      ]
     },
     "metadata": {
      "needs_background": "light"
     },
     "output_type": "display_data"
    },
    {
     "name": "stdout",
     "output_type": "stream",
     "text": [
      "Positive Comments: 9\n"
     ]
    },
    {
     "data": {
      "image/png": "[encoded data removed]",
      "text/plain": [
       "<Figure size 432x288 with 1 Axes>"
      ]
     },
     "metadata": {
      "needs_background": "light"
     },
     "output_type": "display_data"
    }
   ],
   "source": [
    "#High NPS(9.15)\n",
    "word_cloud('Rocky Mountain Holdings Limited Case Study')"
   ]
  },
  {
   "cell_type": "code",
   "execution_count": 30,
   "id": "9c582460-cb1a-46e6-a984-6de8de649a19",
   "metadata": {},
   "outputs": [
    {
     "name": "stdout",
     "output_type": "stream",
     "text": [
      "Course: Applied Technical Analysis for Equity Markets \n",
      "Negative Comments: 0\n",
      "Course: Applied Technical Analysis for Equity Markets \n",
      "Positive Comments: 1\n"
     ]
    },
    {
     "data": {
      "image/png": "[encoded data removed]",
      "text/plain": [
       "<Figure size 432x288 with 1 Axes>"
      ]
     },
     "metadata": {
      "needs_background": "light"
     },
     "output_type": "display_data"
    }
   ],
   "source": [
    "# 'Applied Technical Analysis for Equity Markets' only have positive comment\n",
    "word_cloud('Applied Technical Analysis for Equity Markets')"
   ]
  },
  {
   "cell_type": "code",
   "execution_count": 31,
   "id": "1c5b6336-8402-4e35-ba20-094f5a6c32d4",
   "metadata": {},
   "outputs": [
    {
     "name": "stdout",
     "output_type": "stream",
     "text": [
      "Course: Case Study - RockCrusher Rentals \n",
      "Negative Comments: 0\n",
      "Course: Case Study - RockCrusher Rentals \n",
      "Positive Comments: 7\n"
     ]
    },
    {
     "data": {
      "image/png": "[encoded data removed]",
      "text/plain": [
       "<Figure size 432x288 with 1 Axes>"
      ]
     },
     "metadata": {
      "needs_background": "light"
     },
     "output_type": "display_data"
    }
   ],
   "source": [
    "# 'Case Study - RockCrusher Rentals' only have positive comment\n",
    "word_cloud('Case Study - RockCrusher Rentals')"
   ]
  },
  {
   "cell_type": "code",
   "execution_count": null,
   "id": "1c5fae2a-13b9-40e8-b48c-74f92380ddb9",
   "metadata": {},
   "outputs": [],
   "source": []
  },
  {
   "cell_type": "code",
   "execution_count": null,
   "id": "590b4b20-4a17-4b5e-a99f-6f25a520174f",
   "metadata": {},
   "outputs": [],
   "source": []
  }
 ],
 "metadata": {
  "kernelspec": {
   "display_name": "Python 3 (ipykernel)",
   "language": "python",
   "name": "python3"
  },
  "language_info": {
   "codemirror_mode": {
    "name": "ipython",
    "version": 3
   },
   "file_extension": ".py",
   "mimetype": "text/x-python",
   "name": "python",
   "nbconvert_exporter": "python",
   "pygments_lexer": "ipython3",
   "version": "3.9.5"
  }
 },
 "nbformat": 4,
 "nbformat_minor": 5
}
